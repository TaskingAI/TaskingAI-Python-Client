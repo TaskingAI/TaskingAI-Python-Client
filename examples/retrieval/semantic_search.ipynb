{
 "cells": [
  {
   "cell_type": "code",
   "execution_count": 1,
   "id": "initial_id",
   "metadata": {
    "collapsed": true,
    "ExecuteTime": {
     "end_time": "2023-11-28T07:54:13.639073Z",
     "start_time": "2023-11-28T07:54:13.579042Z"
    }
   },
   "outputs": [],
   "source": [
    "import taskingai\n",
    "# Load TaskingAI API Key from environment variable\n",
    "from taskingai.retrieval import Collection, Record, CollectionConfig"
   ]
  },
  {
   "cell_type": "markdown",
   "source": [
    "# TasingAI Sematic Search Example"
   ],
   "metadata": {
    "collapsed": false
   },
   "id": "c66c7c498c00f7a"
  },
  {
   "cell_type": "markdown",
   "source": [
    "## Build Retrieval Data Source"
   ],
   "metadata": {
    "collapsed": false
   },
   "id": "4eb9cb470772abe"
  },
  {
   "cell_type": "code",
   "execution_count": 2,
   "outputs": [],
   "source": [
    "# choose an available text_embedding model from your project\n",
    "embedding_model_id = \"xp2T1gKz\""
   ],
   "metadata": {
    "collapsed": false,
    "ExecuteTime": {
     "end_time": "2023-11-28T07:54:16.204026Z",
     "start_time": "2023-11-28T07:54:16.154664Z"
    }
   },
   "id": "388eb6fa46f66b52"
  },
  {
   "cell_type": "code",
   "execution_count": 3,
   "outputs": [
    {
     "name": "stdout",
     "output_type": "stream",
     "text": [
      "created collection: {'capacity': 1000,\n",
      " 'collection_id': 'DbgYF5UHGMCUnCvv6rbwJo3K',\n",
      " 'configs': {'chunk_overlap': 0, 'chunk_size': 100, 'metric': 'cosine'},\n",
      " 'created_timestamp': 1701158058281,\n",
      " 'description': '',\n",
      " 'embedding_model_id': 'xp2T1gKz',\n",
      " 'metadata': {},\n",
      " 'name': '',\n",
      " 'num_chunks': 0,\n",
      " 'num_records': 0,\n",
      " 'object': 'Collection',\n",
      " 'status': 'creating'}\n"
     ]
    }
   ],
   "source": [
    "# create a collection\n",
    "def create_collection() -> Collection:\n",
    "    collection: Collection = taskingai.retrieval.create_collection(\n",
    "        embedding_model_id=embedding_model_id,\n",
    "        capacity=1000, # maximum text chunks can be stored\n",
    "        configs=CollectionConfig(\n",
    "            chunk_size=100, # maximum tokens of each chunk\n",
    "            chunk_overlap=0, # token overlap between chunks\n",
    "        )\n",
    "    )\n",
    "    return collection\n",
    "\n",
    "collection: Collection = create_collection()\n",
    "print(f\"created collection: {collection}\")"
   ],
   "metadata": {
    "collapsed": false,
    "ExecuteTime": {
     "end_time": "2023-11-28T07:54:18.568238Z",
     "start_time": "2023-11-28T07:54:16.724928Z"
    }
   },
   "id": "7c7d4e2cc2f2f494"
  },
  {
   "cell_type": "code",
   "execution_count": 4,
   "outputs": [
    {
     "data": {
      "text/plain": "{'collection_id': 'DbgYF5UHGMCUnCvv6rbwJo3K',\n 'content': {'text': 'Machine learning is a subfield of artificial '\n                     'intelligence (AI) that involves the development of '\n                     'algorithms that allow computers to learn from and make '\n                     'decisions or predictions based on data. The term '\n                     '\"machine learning\" was coined by Arthur Samuel in 1959. '\n                     'In other words, machine learning enables a system to '\n                     'automatically learn and improve from experience without '\n                     'being explicitly programmed. This is achieved by feeding '\n                     'the system massive amounts of data, which it uses to '\n                     'learn patterns and make inferences. There are three main '\n                     'types of machine learning: 1. Supervised Learning: This '\n                     'is where the model is given labeled training data and '\n                     'the goal of learning is to generalize from the training '\n                     'data to unseen situations in a principled way. 2. '\n                     'Unsupervised Learning: This involves training on a '\n                     'dataset without explicit labels. The goal might be to '\n                     'discover inherent groupings or patterns within the data. '\n                     '3. Reinforcement Learning: In this type, an agent learns '\n                     'to perform actions based on reward/penalty feedback to '\n                     \"achieve a goal. It's commonly used in robotics, gaming, \"\n                     'and navigation. Deep learning, a subset of machine '\n                     'learning, uses neural networks with many layers (\"deep\" '\n                     'structures) and has been responsible for many recent '\n                     'breakthroughs in AI, including speech recognition, image '\n                     \"recognition, and natural language processing. It's \"\n                     'important to note that machine learning is a rapidly '\n                     'developing field, with new techniques and applications '\n                     'emerging regularly.'},\n 'created_timestamp': 1701158061116,\n 'metadata': {},\n 'num_chunks': 0,\n 'object': 'Record',\n 'record_id': 'qpEa1nwHDsQaz8ivmNJ7iwYs',\n 'status': 'creating',\n 'type': 'text'}"
     },
     "execution_count": 4,
     "metadata": {},
     "output_type": "execute_result"
    }
   ],
   "source": [
    "# create record 1 (machine learning)\n",
    "taskingai.retrieval.create_text_record(\n",
    "    collection_id=collection.collection_id,\n",
    "    text=\"Machine learning is a subfield of artificial intelligence (AI) that involves the development of algorithms that allow computers to learn from and make decisions or predictions based on data. The term \\\"machine learning\\\" was coined by Arthur Samuel in 1959. In other words, machine learning enables a system to automatically learn and improve from experience without being explicitly programmed. This is achieved by feeding the system massive amounts of data, which it uses to learn patterns and make inferences. There are three main types of machine learning: 1. Supervised Learning: This is where the model is given labeled training data and the goal of learning is to generalize from the training data to unseen situations in a principled way. 2. Unsupervised Learning: This involves training on a dataset without explicit labels. The goal might be to discover inherent groupings or patterns within the data. 3. Reinforcement Learning: In this type, an agent learns to perform actions based on reward/penalty feedback to achieve a goal. It's commonly used in robotics, gaming, and navigation. Deep learning, a subset of machine learning, uses neural networks with many layers (\\\"deep\\\" structures) and has been responsible for many recent breakthroughs in AI, including speech recognition, image recognition, and natural language processing. It's important to note that machine learning is a rapidly developing field, with new techniques and applications emerging regularly.\"\n",
    ")"
   ],
   "metadata": {
    "collapsed": false,
    "ExecuteTime": {
     "end_time": "2023-11-28T07:54:21.329558Z",
     "start_time": "2023-11-28T07:54:18.527394Z"
    }
   },
   "id": "f783de4624047df7"
  },
  {
   "cell_type": "code",
   "execution_count": 5,
   "outputs": [
    {
     "data": {
      "text/plain": "{'collection_id': 'DbgYF5UHGMCUnCvv6rbwJo3K',\n 'content': {'text': 'Michael Jordan, often referred to by his initials MJ, is '\n                     'considered one of the greatest players in the history of '\n                     'the National Basketball Association (NBA). He was known '\n                     'for his scoring ability, defensive prowess, '\n                     'competitiveness, and clutch performances. Born on '\n                     'February 17, 1963, Jordan played 15 seasons in the NBA, '\n                     'primarily with the Chicago Bulls, but also with the '\n                     'Washington Wizards. His professional career spanned two '\n                     'decades from 1984 to 2003, during which he won numerous '\n                     'awards and set multiple records. Here are some key '\n                     'highlights of his career: - Scoring: Jordan won the NBA '\n                     'scoring title a record 10 times. He also has the highest '\n                     'career scoring average in NBA history, both in the '\n                     'regular season (30.12 points per game) and in the '\n                     'playoffs (33.45 points per game). - Championships: He '\n                     'led the Chicago Bulls to six NBA championships and was '\n                     'named Finals MVP in all six of those Finals (1991-1993, '\n                     \"1996-1998). - MVP Awards: Jordan was named the NBA's \"\n                     'Most Valuable Player (MVP) five times (1988, 1991, 1992, '\n                     '1996, 1998). - Defensive Ability: He was named to the '\n                     'NBA All-Defensive First Team nine times and won the NBA '\n                     'Defensive Player of the Year award in 1988. - Olympics: '\n                     'Jordan also won two Olympic gold medals with the U.S. '\n                     'basketball team, in 1984 and 1992. - Retirements and '\n                     'Comebacks: Jordan retired twice during his career. His '\n                     'first retirement came in 1993, after which he briefly '\n                     'played minor league baseball. He returned to the NBA in '\n                     '1995. He retired a second time in 1999, only to return '\n                     'again in 2001, this time with the Washington Wizards. He '\n                     'played two seasons for the Wizards before retiring for '\n                     'good in 2003. After his playing career, Jordan became a '\n                     'team owner and executive. As of my knowledge cutoff in '\n                     'September 2021, he is the majority owner of the '\n                     'Charlotte Hornets. Off the court, Jordan is known for '\n                     'his lucrative endorsement deals, particularly with Nike. '\n                     'The Air Jordan line of sneakers is one of the most '\n                     'popular and enduring in the world. His influence also '\n                     'extends to the realms of film and fashion, and he is '\n                     'recognized globally as a cultural icon. In 2000, he was '\n                     'inducted into the Basketball Hall of Fame.'},\n 'created_timestamp': 1701158064915,\n 'metadata': {},\n 'num_chunks': 0,\n 'object': 'Record',\n 'record_id': 'qpEaMLC6lsyGToLLqysGke2N',\n 'status': 'creating',\n 'type': 'text'}"
     },
     "execution_count": 5,
     "metadata": {},
     "output_type": "execute_result"
    }
   ],
   "source": [
    "# create record 2 (Michael Jordan)\n",
    "taskingai.retrieval.create_text_record(\n",
    "    collection_id=collection.collection_id,\n",
    "    text=\"Michael Jordan, often referred to by his initials MJ, is considered one of the greatest players in the history of the National Basketball Association (NBA). He was known for his scoring ability, defensive prowess, competitiveness, and clutch performances. Born on February 17, 1963, Jordan played 15 seasons in the NBA, primarily with the Chicago Bulls, but also with the Washington Wizards. His professional career spanned two decades from 1984 to 2003, during which he won numerous awards and set multiple records. Here are some key highlights of his career: - Scoring: Jordan won the NBA scoring title a record 10 times. He also has the highest career scoring average in NBA history, both in the regular season (30.12 points per game) and in the playoffs (33.45 points per game). - Championships: He led the Chicago Bulls to six NBA championships and was named Finals MVP in all six of those Finals (1991-1993, 1996-1998). - MVP Awards: Jordan was named the NBA's Most Valuable Player (MVP) five times (1988, 1991, 1992, 1996, 1998). - Defensive Ability: He was named to the NBA All-Defensive First Team nine times and won the NBA Defensive Player of the Year award in 1988. - Olympics: Jordan also won two Olympic gold medals with the U.S. basketball team, in 1984 and 1992. - Retirements and Comebacks: Jordan retired twice during his career. His first retirement came in 1993, after which he briefly played minor league baseball. He returned to the NBA in 1995. He retired a second time in 1999, only to return again in 2001, this time with the Washington Wizards. He played two seasons for the Wizards before retiring for good in 2003. After his playing career, Jordan became a team owner and executive. As of my knowledge cutoff in September 2021, he is the majority owner of the Charlotte Hornets. Off the court, Jordan is known for his lucrative endorsement deals, particularly with Nike. The Air Jordan line of sneakers is one of the most popular and enduring in the world. His influence also extends to the realms of film and fashion, and he is recognized globally as a cultural icon. In 2000, he was inducted into the Basketball Hall of Fame.\"\n",
    ")"
   ],
   "metadata": {
    "collapsed": false,
    "ExecuteTime": {
     "end_time": "2023-11-28T07:54:26.437385Z",
     "start_time": "2023-11-28T07:54:22.076413Z"
    }
   },
   "id": "e23ee88246ffc350"
  },
  {
   "cell_type": "code",
   "execution_count": 6,
   "outputs": [
    {
     "data": {
      "text/plain": "{'collection_id': 'DbgYF5UHGMCUnCvv6rbwJo3K',\n 'content': {'text': 'Granite is a type of coarse-grained igneous rock '\n                     'composed primarily of quartz and feldspar, among other '\n                     'minerals. The term \"granitic\" means granite-like and is '\n                     'applied to granite and a group of intrusive igneous '\n                     'rocks. Description of Granite * Type: Igneous rock * '\n                     'Grain size: Coarse-grained * Composition: Mainly quartz, '\n                     'feldspar, and micas with minor amounts of amphibole '\n                     'minerals * Color: Typically appears in shades of white, '\n                     'pink, or gray, depending on their mineralogy * '\n                     'Crystalline Structure: Yes, due to slow cooling of magma '\n                     \"beneath Earth's surface * Density: Approximately 2.63 to \"\n                     '2.75 g/cm³ * Hardness: 6-7 on the Mohs hardness scale '\n                     'Formation Process Granite is formed from the slow '\n                     'cooling of magma that is rich in silica and aluminum, '\n                     \"deep beneath the earth's surface. Over time, the magma \"\n                     'cools slowly, allowing large crystals to form and '\n                     'resulting in the coarse-grained texture that is '\n                     'characteristic of granite. Uses Granite is known for its '\n                     'durability and aesthetic appeal, making it a popular '\n                     'choice for construction and architectural applications. '\n                     \"It's often used for countertops, flooring, monuments, \"\n                     'and building materials. In addition, due to its hardness '\n                     'and toughness, it is used for cobblestones and in other '\n                     'paving applications. Geographical Distribution Granite '\n                     'is found worldwide, with significant deposits in regions '\n                     'such as the United States (especially in New Hampshire, '\n                     'which is also known as \"The Granite State\"), Canada, '\n                     'Brazil, Norway, India, and China. Varieties There are '\n                     'many varieties of granite, based on differences in color '\n                     'and mineral composition. Some examples include Bianco '\n                     'Romano, Black Galaxy, Blue Pearl, Santa Cecilia, and '\n                     'Ubatuba. Each variety has unique patterns, colors, and '\n                     'mineral compositions.'},\n 'created_timestamp': 1701158069751,\n 'metadata': {},\n 'num_chunks': 0,\n 'object': 'Record',\n 'record_id': 'qpEavnJba5LCU8niuSQhc0vJ',\n 'status': 'creating',\n 'type': 'text'}"
     },
     "execution_count": 6,
     "metadata": {},
     "output_type": "execute_result"
    }
   ],
   "source": [
    "# create record 3 (Granite)\n",
    "taskingai.retrieval.create_text_record(\n",
    "    collection_id=collection.collection_id,\n",
    "    text=\"Granite is a type of coarse-grained igneous rock composed primarily of quartz and feldspar, among other minerals. The term \\\"granitic\\\" means granite-like and is applied to granite and a group of intrusive igneous rocks. Description of Granite * Type: Igneous rock * Grain size: Coarse-grained * Composition: Mainly quartz, feldspar, and micas with minor amounts of amphibole minerals * Color: Typically appears in shades of white, pink, or gray, depending on their mineralogy * Crystalline Structure: Yes, due to slow cooling of magma beneath Earth's surface * Density: Approximately 2.63 to 2.75 g/cm³ * Hardness: 6-7 on the Mohs hardness scale Formation Process Granite is formed from the slow cooling of magma that is rich in silica and aluminum, deep beneath the earth's surface. Over time, the magma cools slowly, allowing large crystals to form and resulting in the coarse-grained texture that is characteristic of granite. Uses Granite is known for its durability and aesthetic appeal, making it a popular choice for construction and architectural applications. It's often used for countertops, flooring, monuments, and building materials. In addition, due to its hardness and toughness, it is used for cobblestones and in other paving applications. Geographical Distribution Granite is found worldwide, with significant deposits in regions such as the United States (especially in New Hampshire, which is also known as \\\"The Granite State\\\"), Canada, Brazil, Norway, India, and China. Varieties There are many varieties of granite, based on differences in color and mineral composition. Some examples include Bianco Romano, Black Galaxy, Blue Pearl, Santa Cecilia, and Ubatuba. Each variety has unique patterns, colors, and mineral compositions.\"\n",
    ")"
   ],
   "metadata": {
    "collapsed": false,
    "ExecuteTime": {
     "end_time": "2023-11-28T07:54:30.023841Z",
     "start_time": "2023-11-28T07:54:28.092560Z"
    }
   },
   "id": "73458e8086bec5bd"
  },
  {
   "cell_type": "markdown",
   "source": [
    "## Query Relavent Chunks"
   ],
   "metadata": {
    "collapsed": false
   },
   "id": "7538cb91a6439106"
  },
  {
   "cell_type": "code",
   "execution_count": 12,
   "outputs": [
    {
     "name": "stdout",
     "output_type": "stream",
     "text": [
      "collection status: ready\n"
     ]
    }
   ],
   "source": [
    "# Check collection status. \n",
    "# Only when status is \"READY\" can you query chunks.\n",
    "collection = taskingai.retrieval.get_collection(collection_id=collection.collection_id)\n",
    "print(f\"collection status: {collection.status}\")"
   ],
   "metadata": {
    "collapsed": false,
    "ExecuteTime": {
     "end_time": "2023-11-28T07:57:47.226248Z",
     "start_time": "2023-11-28T07:57:45.265113Z"
    }
   },
   "id": "eb5dee18aa83c5e4"
  },
  {
   "cell_type": "code",
   "execution_count": 13,
   "outputs": [
    {
     "name": "stdout",
     "output_type": "stream",
     "text": [
      "record qpEavnJba5LCU8niuSQhc0vJ content (Granite is a type of...) status: ready\n",
      "record qpEaMLC6lsyGToLLqysGke2N content (Michael Jordan, ofte...) status: ready\n",
      "record qpEa1nwHDsQaz8ivmNJ7iwYs content (Machine learning is ...) status: ready\n"
     ]
    }
   ],
   "source": [
    "# Check record status. \n",
    "# Only when status is \"READY\", the record chunks can appear in query results.\n",
    "records = taskingai.retrieval.list_records(collection_id=collection.collection_id)\n",
    "for record in records:\n",
    "    content = record.content[\"text\"][:20]\n",
    "    print(f\"record {record.record_id} content ({content}...) status: {record.status}\")"
   ],
   "metadata": {
    "collapsed": false,
    "ExecuteTime": {
     "end_time": "2023-11-28T07:57:49.624598Z",
     "start_time": "2023-11-28T07:57:48.085783Z"
    }
   },
   "id": "f6140ba9ae4e3f91"
  },
  {
   "cell_type": "code",
   "execution_count": 9,
   "outputs": [
    {
     "data": {
      "text/plain": "[{'chunk_id': 'LmK0rczgWBJzZe1lkvsRooxn',\n  'collection_id': 'DbgYF5UHGMCUnCvv6rbwJo3K',\n  'object': 'Chunk',\n  'record_id': 'qpEaMLC6lsyGToLLqysGke2N',\n  'score': 0.8070931183529299,\n  'text': 'Michael Jordan, often referred to by his initials MJ, is considered '\n          'one of the greatest players in the history of the National '\n          'Basketball Association (NBA). He was known for his scoring ability, '\n          'defensive prowess, competitiveness, and clutch performances. Born on '\n          'February 17, 1963, Jordan played 15 seasons in the NBA, primarily '\n          'with the Chicago Bulls, but also with the Washington Wizards. His '\n          'professional career spanned two decades from 1984 to 2003, during '\n          'which he won numerous'},\n {'chunk_id': 'LmK0FZWlaDKtnt5futOI07FZ',\n  'collection_id': 'DbgYF5UHGMCUnCvv6rbwJo3K',\n  'object': 'Chunk',\n  'record_id': 'qpEaMLC6lsyGToLLqysGke2N',\n  'score': 0.7837451825293915,\n  'text': 'and executive. As of my knowledge cutoff in September 2021, he is '\n          'the majority owner of the Charlotte Hornets. Off the court, Jordan '\n          'is known for his lucrative endorsement deals, particularly with '\n          'Nike. The Air Jordan line of sneakers is one of the most popular and '\n          'enduring in the world. His influence also extends to the realms of '\n          'film and fashion, and he is recognized globally as a cultural icon. '\n          'In 2000, he was inducted into the Basketball Hall of Fame.'}]"
     },
     "execution_count": 9,
     "metadata": {},
     "output_type": "execute_result"
    }
   ],
   "source": [
    "# query chunks 1\n",
    "chunks = taskingai.retrieval.query_chunks(\n",
    "    collection_id=collection.collection_id,\n",
    "    query_text=\"Basketball\",\n",
    "    top_k=2\n",
    ")\n",
    "chunks"
   ],
   "metadata": {
    "collapsed": false,
    "ExecuteTime": {
     "end_time": "2023-11-28T07:55:06.688923Z",
     "start_time": "2023-11-28T07:55:04.181864Z"
    }
   },
   "id": "cd499d7869e8445c"
  },
  {
   "cell_type": "code",
   "execution_count": 10,
   "outputs": [
    {
     "data": {
      "text/plain": "[{'chunk_id': 'LmK03FQz9fApv2cczUq6kVtj',\n  'collection_id': 'DbgYF5UHGMCUnCvv6rbwJo3K',\n  'object': 'Chunk',\n  'record_id': 'qpEavnJba5LCU8niuSQhc0vJ',\n  'score': 0.7806737292214484,\n  'text': 'in shades of white, pink, or gray, depending on their mineralogy * '\n          'Crystalline Structure: Yes, due to slow cooling of magma beneath '\n          \"Earth's surface * Density: Approximately 2.63 to 2.75 g/cm³ * \"\n          'Hardness: 6-7 on the Mohs hardness scale Formation Process Granite '\n          'is formed from the slow cooling of magma that is rich in silica and '\n          \"aluminum, deep beneath the earth's surface. Over time\"},\n {'chunk_id': 'LmK0FHUg9Ou2nxvlzs4SAjAp',\n  'collection_id': 'DbgYF5UHGMCUnCvv6rbwJo3K',\n  'object': 'Chunk',\n  'record_id': 'qpEavnJba5LCU8niuSQhc0vJ',\n  'score': 0.7737316162906206,\n  'text': ', the magma cools slowly, allowing large crystals to form and '\n          'resulting in the coarse-grained texture that is characteristic of '\n          'granite. Uses Granite is known for its durability and aesthetic '\n          'appeal, making it a popular choice for construction and '\n          \"architectural applications. It's often used for countertops, \"\n          'flooring, monuments, and building materials. In addition, due to its '\n          'hardness and toughness, it is used for cobblestones and in other '\n          'paving applications. Geographical Distribution Granite is found'}]"
     },
     "execution_count": 10,
     "metadata": {},
     "output_type": "execute_result"
    }
   ],
   "source": [
    "# query chunks 2\n",
    "chunks = taskingai.retrieval.query_chunks(\n",
    "    collection_id=collection.collection_id,\n",
    "    query_text=\"geology\",\n",
    "    top_k=2\n",
    ")\n",
    "chunks"
   ],
   "metadata": {
    "collapsed": false,
    "ExecuteTime": {
     "end_time": "2023-11-28T07:55:35.736800Z",
     "start_time": "2023-11-28T07:55:33.213218Z"
    }
   },
   "id": "b6fd67f81af404b2"
  },
  {
   "cell_type": "code",
   "execution_count": 11,
   "outputs": [
    {
     "data": {
      "text/plain": "[{'chunk_id': 'LmK0SrOTqDjFyq7arX5T9Cis',\n  'collection_id': 'DbgYF5UHGMCUnCvv6rbwJo3K',\n  'object': 'Chunk',\n  'record_id': 'qpEa1nwHDsQaz8ivmNJ7iwYs',\n  'score': 0.8924659894345995,\n  'text': 'Machine learning is a subfield of artificial intelligence (AI) that '\n          'involves the development of algorithms that allow computers to learn '\n          'from and make decisions or predictions based on data. The term '\n          '\"machine learning\" was coined by Arthur Samuel in 1959. In other '\n          'words, machine learning enables a system to automatically learn and '\n          'improve from experience without being explicitly programmed. This is '\n          'achieved by feeding the system massive amounts of data, which it '\n          'uses to learn patterns and make inferences. There'},\n {'chunk_id': 'LmK0hKbvZUBPlbt7fAmbTyKl',\n  'collection_id': 'DbgYF5UHGMCUnCvv6rbwJo3K',\n  'object': 'Chunk',\n  'record_id': 'qpEa1nwHDsQaz8ivmNJ7iwYs',\n  'score': 0.85237085819245,\n  'text': 'are three main types of machine learning: 1. Supervised Learning: '\n          'This is where the model is given labeled training data and the goal '\n          'of learning is to generalize from the training data to unseen '\n          'situations in a principled way. 2. Unsupervised Learning: This '\n          'involves training on a dataset without explicit labels. The goal '\n          'might be to discover inherent groupings or patterns within the data. '\n          '3. Reinforcement Learning: In this type, an agent learns to'}]"
     },
     "execution_count": 11,
     "metadata": {},
     "output_type": "execute_result"
    }
   ],
   "source": [
    "# query chunks 3\n",
    "chunks = taskingai.retrieval.query_chunks(\n",
    "    collection_id=collection.collection_id,\n",
    "    query_text=\"what is machine learning\",\n",
    "    top_k=2\n",
    ")\n",
    "chunks"
   ],
   "metadata": {
    "collapsed": false,
    "ExecuteTime": {
     "end_time": "2023-11-28T07:55:54.036413Z",
     "start_time": "2023-11-28T07:55:52.183179Z"
    }
   },
   "id": "fc9c1fa12d893dd1"
  },
  {
   "cell_type": "code",
   "execution_count": null,
   "outputs": [],
   "source": [],
   "metadata": {
    "collapsed": false
   },
   "id": "ac53256e853622c"
  }
 ],
 "metadata": {
  "kernelspec": {
   "display_name": "Python 3",
   "language": "python",
   "name": "python3"
  },
  "language_info": {
   "codemirror_mode": {
    "name": "ipython",
    "version": 2
   },
   "file_extension": ".py",
   "mimetype": "text/x-python",
   "name": "python",
   "nbconvert_exporter": "python",
   "pygments_lexer": "ipython2",
   "version": "2.7.6"
  }
 },
 "nbformat": 4,
 "nbformat_minor": 5
}
