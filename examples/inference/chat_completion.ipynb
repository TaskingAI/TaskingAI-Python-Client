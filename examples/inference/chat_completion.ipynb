{
 "cells": [
  {
   "cell_type": "code",
   "execution_count": null,
   "outputs": [],
   "source": [
    "import taskingai\n",
    "# Load TaskingAI API Key from environment variable"
   ],
   "metadata": {
    "collapsed": false
   },
   "id": "1a6bfd1682fcb23f"
  },
  {
   "cell_type": "markdown",
   "source": [
    "# TaskingAI Model Inference: Chat Completion"
   ],
   "metadata": {
    "collapsed": false
   },
   "id": "657463bd357a3c3"
  },
  {
   "cell_type": "code",
   "execution_count": null,
   "outputs": [],
   "source": [
    "from taskingai.inference import *\n",
    "import json\n",
    "# choose an available chat_completion model from your project\n",
    "model_id = \"YOUR_MODEL_ID\""
   ],
   "metadata": {
    "collapsed": false
   },
   "id": "49abde692940b09e"
  },
  {
   "cell_type": "markdown",
   "source": [
    "## Single-round chat completion"
   ],
   "metadata": {
    "collapsed": false
   },
   "id": "84b663418e3e3b19"
  },
  {
   "cell_type": "code",
   "execution_count": null,
   "outputs": [],
   "source": [
    "chat_completion_result = taskingai.inference.chat_completion(\n",
    "    model_id=model_id,\n",
    "    messages=[\n",
    "        SystemMessage(\"You are an assistant specialized in productivity and time management strategies.\"),\n",
    "        UserMessage(\"I'm struggling with managing my time effectively. Do you have any tips?\"),\n",
    "    ]\n",
    ")\n",
    "chat_completion_result"
   ],
   "metadata": {
    "collapsed": false
   },
   "id": "43dcc632665f0de4"
  },
  {
   "cell_type": "markdown",
   "source": [
    "## Multi-round chat completion"
   ],
   "metadata": {
    "collapsed": false
   },
   "id": "9f84e86d19409580"
  },
  {
   "cell_type": "code",
   "execution_count": null,
   "outputs": [],
   "source": [
    "# Multiple Round Interaction with Specific System Prompt\n",
    "chat_completion_result = taskingai.inference.chat_completion(\n",
    "    model_id=model_id,\n",
    "    messages=[\n",
    "        SystemMessage(\"You are an assistant with extensive knowledge in literature and book recommendations.\"),\n",
    "        UserMessage(\"Hello, I'm looking for book recommendations.\"),\n",
    "        AssistantMessage(\"Certainly! What genre are you interested in?\"),\n",
    "        UserMessage(\"I love science fiction.\"),\n",
    "        AssistantMessage(\"Great choice! I recommend 'Dune' by Frank Herbert for its rich world-building and 'Neuromancer' by William Gibson for its cyberpunk influence.\"),\n",
    "        UserMessage(\"Thanks! Can you also suggest something in non-fiction?\"),\n",
    "    ]\n",
    ")\n",
    "chat_completion_result"
   ],
   "metadata": {
    "collapsed": false
   },
   "id": "e8933bc07f4b3228"
  },
  {
   "cell_type": "code",
   "execution_count": null,
   "outputs": [],
   "source": [
    "# Add max tokens configs\n",
    "chat_completion_result = taskingai.inference.chat_completion(\n",
    "    model_id=model_id,\n",
    "    messages=[\n",
    "        SystemMessage(\"You are an assistant with extensive knowledge in literature and book recommendations.\"),\n",
    "        UserMessage(\"Hello, I'm looking for book recommendations.\"),\n",
    "        AssistantMessage(\"Certainly! What genre are you interested in?\"),\n",
    "        UserMessage(\"I love science fiction.\"),\n",
    "        AssistantMessage(\"Great choice! I recommend 'Dune' by Frank Herbert for its rich world-building and 'Neuromancer' by William Gibson for its cyberpunk influence.\"),\n",
    "        UserMessage(\"Thanks! Can you also suggest something in non-fiction?\"),\n",
    "    ],\n",
    "    configs={\n",
    "        \"max_tokens\": 5\n",
    "    }\n",
    ")\n",
    "chat_completion_result"
   ],
   "metadata": {
    "collapsed": false
   },
   "id": "f7c1b8be2579d9e0"
  },
  {
   "cell_type": "markdown",
   "source": [
    "## Function call"
   ],
   "metadata": {
    "collapsed": false
   },
   "id": "c615ece16c777029"
  },
  {
   "cell_type": "code",
   "execution_count": null,
   "outputs": [],
   "source": [
    "# function definition\n",
    "function = Function(\n",
    "    name=\"plus_a_and_b\",\n",
    "    description=\"Sum up a and b and return the result\",\n",
    "    parameters={\n",
    "        \"type\": \"object\",\n",
    "        \"properties\": {\n",
    "            \"a\": {\n",
    "                \"type\": \"integer\",\n",
    "                \"description\": \"The first number\"\n",
    "            },\n",
    "            \"b\": {\n",
    "                \"type\": \"integer\",\n",
    "                \"description\": \"The second number\"\n",
    "            }\n",
    "        },\n",
    "        \"required\": [\"a\", \"b\"]\n",
    "    },\n",
    ")"
   ],
   "metadata": {
    "collapsed": false
   },
   "id": "2645bdc3df011e7d"
  },
  {
   "cell_type": "code",
   "execution_count": null,
   "outputs": [],
   "source": [
    "# chat completion with the function call\n",
    "chat_completion_result = taskingai.inference.chat_completion(\n",
    "    model_id=model_id,\n",
    "    messages=[\n",
    "        UserMessage(\"What is the result of 112 plus 22?\"),\n",
    "    ],\n",
    "    functions=[function]\n",
    ")\n",
    "function_call_assistant_message = chat_completion_result.message\n",
    "print(f\"function_call_assistant_message = {function_call_assistant_message}\")"
   ],
   "metadata": {
    "collapsed": false
   },
   "id": "850adc819aa228fc"
  },
  {
   "cell_type": "code",
   "execution_count": null,
   "outputs": [],
   "source": [
    "# get the function call result\n",
    "def plus_a_and_b(a, b):\n",
    "    return a + b\n",
    "\n",
    "arguments = function_call_assistant_message.function_calls[0].arguments\n",
    "function_id = function_call_assistant_message.function_calls[0].id\n",
    "function_call_result = plus_a_and_b(**arguments)\n",
    "print(f\"function_call_result = {function_call_result}\")"
   ],
   "metadata": {
    "collapsed": false
   },
   "id": "45787662d2148352"
  },
  {
   "cell_type": "code",
   "execution_count": null,
   "outputs": [],
   "source": [
    "# chat completion with the function result\n",
    "chat_completion_result = taskingai.inference.chat_completion(\n",
    "    model_id=model_id,\n",
    "    messages=[\n",
    "        UserMessage(\"What is the result of 112 plus 22?\"),\n",
    "        function_call_assistant_message,\n",
    "        FunctionMessage(id=function_id, content=str(function_call_result))\n",
    "    ],\n",
    "    functions=[function]\n",
    ")\n",
    "chat_completion_result"
   ],
   "metadata": {
    "collapsed": false
   },
   "id": "9df9a8b9eafa17d9"
  },
  {
   "cell_type": "markdown",
   "source": [
    "## Stream mode"
   ],
   "metadata": {
    "collapsed": false
   },
   "id": "a64da98251c5d3c5"
  },
  {
   "cell_type": "code",
   "execution_count": null,
   "outputs": [],
   "source": [
    "# generate in stream mode\n",
    "chat_completion_result = taskingai.inference.chat_completion(\n",
    "    model_id=model_id,\n",
    "    messages=[\n",
    "        UserMessage(\"Please count from 1 to 100, and add a new line after every 10 numbers.\"),\n",
    "    ],\n",
    "    stream=True\n",
    ")\n",
    "for item in chat_completion_result:\n",
    "    \n",
    "    if isinstance(item, ChatCompletionChunk):\n",
    "        print(item.delta, end=\"\", flush=True)\n",
    "        \n",
    "    elif isinstance(item, ChatCompletion):\n",
    "        print(f\"\\n\\nFinished with reason: {item.finish_reason}\")"
   ],
   "metadata": {
    "collapsed": false
   },
   "id": "4f3290f87635152a"
  }
 ],
 "metadata": {
  "kernelspec": {
   "display_name": "Python 3",
   "language": "python",
   "name": "python3"
  },
  "language_info": {
   "codemirror_mode": {
    "name": "ipython",
    "version": 2
   },
   "file_extension": ".py",
   "mimetype": "text/x-python",
   "name": "python",
   "nbconvert_exporter": "python",
   "pygments_lexer": "ipython2",
   "version": "2.7.6"
  }
 },
 "nbformat": 4,
 "nbformat_minor": 5
}
