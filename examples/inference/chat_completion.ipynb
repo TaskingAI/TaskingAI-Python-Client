{
 "cells": [
  {
   "cell_type": "code",
   "execution_count": 1,
   "outputs": [],
   "source": [
    "import taskingai\n",
    "# Load TaskingAI API Key from environment variable"
   ],
   "metadata": {
    "collapsed": false,
    "ExecuteTime": {
     "end_time": "2023-11-28T12:07:45.292065Z",
     "start_time": "2023-11-28T12:07:45.248068Z"
    }
   },
   "id": "1a6bfd1682fcb23f"
  },
  {
   "cell_type": "markdown",
   "source": [
    "# TaskingAI Model Inference: Chat Completion"
   ],
   "metadata": {
    "collapsed": false
   },
   "id": "657463bd357a3c3"
  },
  {
   "cell_type": "code",
   "execution_count": 2,
   "outputs": [],
   "source": [
    "from taskingai.inference import *\n",
    "import json\n",
    "# choose an available chat_completion model from your project\n",
    "model_id = \"Gk1145Bl\""
   ],
   "metadata": {
    "collapsed": false,
    "ExecuteTime": {
     "end_time": "2023-11-28T12:07:46.170766Z",
     "start_time": "2023-11-28T12:07:46.157613Z"
    }
   },
   "id": "49abde692940b09e"
  },
  {
   "cell_type": "code",
   "execution_count": 3,
   "outputs": [
    {
     "data": {
      "text/plain": "{'created_timestamp': 1701173269243,\n 'finish_reason': 'stop',\n 'message': {'content': 'Hello! How can I assist you today?',\n             'function_call': None,\n             'role': 'assistant'},\n 'object': 'ChatCompletion'}"
     },
     "execution_count": 3,
     "metadata": {},
     "output_type": "execute_result"
    }
   ],
   "source": [
    "# normal \n",
    "chat_completion = taskingai.inference.chat_completion(\n",
    "    model_id=model_id,\n",
    "    messages=[\n",
    "        SystemMessage(\"You are a professional assistant.\"),\n",
    "        UserMessage(\"Hi\"),\n",
    "    ]\n",
    ")\n",
    "chat_completion"
   ],
   "metadata": {
    "collapsed": false,
    "ExecuteTime": {
     "end_time": "2023-11-28T12:07:49.355234Z",
     "start_time": "2023-11-28T12:07:46.700962Z"
    }
   },
   "id": "43dcc632665f0de4"
  },
  {
   "cell_type": "code",
   "execution_count": 4,
   "outputs": [
    {
     "data": {
      "text/plain": "{'created_timestamp': 1701173272255,\n 'finish_reason': 'stop',\n 'message': {'content': \"Of course! Here's another joke for you: Why don't \"\n                        \"skeletons fight each other? They don't have the guts!\",\n             'function_call': None,\n             'role': 'assistant'},\n 'object': 'ChatCompletion'}"
     },
     "execution_count": 4,
     "metadata": {},
     "output_type": "execute_result"
    }
   ],
   "source": [
    "# multi round chat completion\n",
    "chat_completion = taskingai.inference.chat_completion(\n",
    "    model_id=model_id,\n",
    "    messages=[\n",
    "        SystemMessage(\"You are a professional assistant.\"),\n",
    "        UserMessage(\"Hi\"),\n",
    "        AssistantMessage(\"Hello! How can I assist you today?\"),\n",
    "        UserMessage(\"Can you tell me a joke?\"),\n",
    "        AssistantMessage(\"Sure, here is a joke for you: Why don't scientists trust atoms? Because they make up everything!\"),\n",
    "        UserMessage(\"That's funny. Can you tell me another one?\"),\n",
    "    ]\n",
    ")\n",
    "chat_completion"
   ],
   "metadata": {
    "collapsed": false,
    "ExecuteTime": {
     "end_time": "2023-11-28T12:07:52.367618Z",
     "start_time": "2023-11-28T12:07:50.109888Z"
    }
   },
   "id": "e8933bc07f4b3228"
  },
  {
   "cell_type": "code",
   "execution_count": 5,
   "outputs": [
    {
     "data": {
      "text/plain": "{'created_timestamp': 1701173274744,\n 'finish_reason': 'length',\n 'message': {'content': \"Of course! Here's\",\n             'function_call': None,\n             'role': 'assistant'},\n 'object': 'ChatCompletion'}"
     },
     "execution_count": 5,
     "metadata": {},
     "output_type": "execute_result"
    }
   ],
   "source": [
    "# config max tokens\n",
    "chat_completion = taskingai.inference.chat_completion(\n",
    "    model_id=model_id,\n",
    "    messages=[\n",
    "        SystemMessage(\"You are a professional assistant.\"),\n",
    "        UserMessage(\"Hi\"),\n",
    "        AssistantMessage(\"Hello! How can I assist you today?\"),\n",
    "        UserMessage(\"Can you tell me a joke?\"),\n",
    "        AssistantMessage(\"Sure, here is a joke for you: Why don't scientists trust atoms? Because they make up everything!\"),\n",
    "        UserMessage(\"That's funny. Can you tell me another one?\"),\n",
    "    ],\n",
    "    configs={\n",
    "        \"max_tokens\": 5\n",
    "    }\n",
    ")\n",
    "chat_completion"
   ],
   "metadata": {
    "collapsed": false,
    "ExecuteTime": {
     "end_time": "2023-11-28T12:07:54.817719Z",
     "start_time": "2023-11-28T12:07:53.137411Z"
    }
   },
   "id": "f7c1b8be2579d9e0"
  },
  {
   "cell_type": "code",
   "execution_count": 6,
   "outputs": [
    {
     "name": "stdout",
     "output_type": "stream",
     "text": [
      "chat_completion = {'created_timestamp': 1701173277776,\n",
      " 'finish_reason': 'function_call',\n",
      " 'message': {'content': None,\n",
      "             'function_call': {'arguments': {'a': 112, 'b': 22},\n",
      "                               'name': 'plus_a_and_b'},\n",
      "             'role': 'assistant'},\n",
      " 'object': 'ChatCompletion'}\n",
      "function name: plus_a_and_b, argument content: {\"a\": 112, \"b\": 22}\n"
     ]
    }
   ],
   "source": [
    "# function call\n",
    "function = Function(\n",
    "    name=\"plus_a_and_b\",\n",
    "    description=\"Sum up a and b and return the result\",\n",
    "    parameters={\n",
    "        \"type\": \"object\",\n",
    "        \"properties\": {\n",
    "            \"a\": {\n",
    "                \"type\": \"integer\",\n",
    "                \"description\": \"The first number\"\n",
    "            },\n",
    "            \"b\": {\n",
    "                \"type\": \"integer\",\n",
    "                \"description\": \"The second number\"\n",
    "            }\n",
    "        },\n",
    "        \"required\": [\"a\", \"b\"]\n",
    "    },\n",
    ")\n",
    "chat_completion = taskingai.inference.chat_completion(\n",
    "    model_id=model_id,\n",
    "    messages=[\n",
    "        SystemMessage(\"You are a professional assistant.\"),\n",
    "        UserMessage(\"What is the result of 112 plus 22?\"),\n",
    "    ],\n",
    "    functions=[function]\n",
    ")\n",
    "print(f\"chat_completion = {chat_completion}\")\n",
    "\n",
    "assistant_function_call_message = chat_completion.message\n",
    "fucntion_name = assistant_function_call_message.function_call.name\n",
    "argument_content = json.dumps(assistant_function_call_message.function_call.arguments)\n",
    "print(f\"function name: {fucntion_name}, argument content: {argument_content}\")"
   ],
   "metadata": {
    "collapsed": false,
    "ExecuteTime": {
     "end_time": "2023-11-28T12:07:57.823570Z",
     "start_time": "2023-11-28T12:07:55.601317Z"
    }
   },
   "id": "2645bdc3df011e7d"
  },
  {
   "cell_type": "markdown",
   "source": [],
   "metadata": {
    "collapsed": false
   },
   "id": "ed6957f0c380ba9f"
  },
  {
   "cell_type": "code",
   "execution_count": 7,
   "outputs": [
    {
     "data": {
      "text/plain": "{'created_timestamp': 1701173282280,\n 'finish_reason': 'stop',\n 'message': {'content': 'The result of 112 plus 22 is 144.',\n             'function_call': None,\n             'role': 'assistant'},\n 'object': 'ChatCompletion'}"
     },
     "execution_count": 7,
     "metadata": {},
     "output_type": "execute_result"
    }
   ],
   "source": [
    "# add function message\n",
    "chat_completion_result = taskingai.inference.chat_completion(\n",
    "    model_id=model_id,\n",
    "    messages=[\n",
    "        SystemMessage(\"You are a professional assistant.\"),\n",
    "        UserMessage(\"What is the result of 112 plus 22?\"),\n",
    "        assistant_function_call_message,\n",
    "        FunctionMessage(name=fucntion_name, content=\"144\")\n",
    "    ],\n",
    "    functions=[function]\n",
    ")\n",
    "chat_completion"
   ],
   "metadata": {
    "collapsed": false,
    "ExecuteTime": {
     "end_time": "2023-11-28T12:08:02.319026Z",
     "start_time": "2023-11-28T12:08:00.109622Z"
    }
   },
   "id": "9df9a8b9eafa17d9"
  }
 ],
 "metadata": {
  "kernelspec": {
   "display_name": "Python 3",
   "language": "python",
   "name": "python3"
  },
  "language_info": {
   "codemirror_mode": {
    "name": "ipython",
    "version": 2
   },
   "file_extension": ".py",
   "mimetype": "text/x-python",
   "name": "python",
   "nbconvert_exporter": "python",
   "pygments_lexer": "ipython2",
   "version": "2.7.6"
  }
 },
 "nbformat": 4,
 "nbformat_minor": 5
}
