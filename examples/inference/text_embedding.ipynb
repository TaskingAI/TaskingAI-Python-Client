{
 "cells": [
  {
   "cell_type": "code",
   "execution_count": null,
   "id": "initial_id",
   "metadata": {
    "collapsed": true
   },
   "outputs": [],
   "source": [
    "import taskingai\n",
    "# Load TaskingAI API Key from environment variable"
   ]
  },
  {
   "cell_type": "markdown",
   "source": [
    "# TaskingAI Model Inference: Text Embedding"
   ],
   "metadata": {
    "collapsed": false
   },
   "id": "24eddeff77f99e6d"
  },
  {
   "cell_type": "code",
   "execution_count": null,
   "outputs": [],
   "source": [
    "from taskingai.inference import *\n",
    "import json\n",
    "# choose an available text embedding model from your project\n",
    "model_id = \"YOUR_MODEL_ID\""
   ],
   "metadata": {
    "collapsed": false
   },
   "id": "63f1d25e7c85b891"
  },
  {
   "cell_type": "code",
   "execution_count": null,
   "outputs": [],
   "source": [
    "# embedding text \n",
    "embedding = taskingai.inference.text_embedding(\n",
    "    model_id=model_id,\n",
    "    input=\"Machine learning is a subfield of artificial intelligence (AI) that involves the development of algorithms that allow computers to learn from and make decisions or predictions based on data.\"\n",
    ")\n",
    "embedding"
   ],
   "metadata": {
    "collapsed": false
   },
   "id": "ceb5fe6170d455c1"
  },
  {
   "cell_type": "code",
   "execution_count": null,
   "outputs": [],
   "source": [
    "# embedding text list\n",
    "embedding_list = taskingai.inference.text_embedding(\n",
    "    model_id=model_id,\n",
    "    input=[\n",
    "        \"Machine learning is a subfield of artificial intelligence (AI) that involves the development of algorithms that allow computers to learn from and make decisions or predictions based on data.\",\n",
    "        \"Michael Jordan, often referred to by his initials MJ, is considered one of the greatest players in the history of the National Basketball Association (NBA).\"\n",
    "    ]\n",
    ")\n",
    "embedding_list"
   ],
   "metadata": {
    "collapsed": false
   },
   "id": "b1f5a9a2341bf886"
  }
 ],
 "metadata": {
  "kernelspec": {
   "display_name": "Python 3",
   "language": "python",
   "name": "python3"
  },
  "language_info": {
   "codemirror_mode": {
    "name": "ipython",
    "version": 2
   },
   "file_extension": ".py",
   "mimetype": "text/x-python",
   "name": "python",
   "nbconvert_exporter": "python",
   "pygments_lexer": "ipython2",
   "version": "2.7.6"
  }
 },
 "nbformat": 4,
 "nbformat_minor": 5
}
