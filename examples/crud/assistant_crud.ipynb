{
 "cells": [
  {
   "cell_type": "code",
   "execution_count": 1,
   "metadata": {
    "ExecuteTime": {
     "end_time": "2023-11-28T03:28:19.450970Z",
     "start_time": "2023-11-28T03:28:19.387649Z"
    }
   },
   "outputs": [],
   "source": [
    "import taskingai\n",
    "# Load TaskingAI API Key from environment variable"
   ]
  },
  {
   "cell_type": "markdown",
   "source": [
    "# TaskingAI Assistant Module CRUD Example"
   ],
   "metadata": {
    "collapsed": false
   }
  },
  {
   "cell_type": "code",
   "execution_count": 2,
   "metadata": {
    "ExecuteTime": {
     "end_time": "2023-11-28T03:28:19.451171Z",
     "start_time": "2023-11-28T03:28:19.436554Z"
    }
   },
   "outputs": [],
   "source": [
    "from taskingai.assistant import Assistant, Chat\n",
    "\n",
    "# choose an available chat_completion model from your project\n",
    "model_id = \"Gk1145Bl\""
   ]
  },
  {
   "cell_type": "markdown",
   "source": [
    "## Assistant Object"
   ],
   "metadata": {
    "collapsed": false
   }
  },
  {
   "cell_type": "code",
   "execution_count": 3,
   "metadata": {
    "ExecuteTime": {
     "end_time": "2023-11-28T03:28:20.580538Z",
     "start_time": "2023-11-28T03:28:19.438571Z"
    }
   },
   "outputs": [
    {
     "name": "stdout",
     "output_type": "stream",
     "text": [
      "created assistant: {'assistant_id': 'X5lMbErLu8l4PmoA3aZQt7FX',\n",
      " 'created_timestamp': 1701142100480,\n",
      " 'description': 'This is my assistant',\n",
      " 'metadata': {'foo': 'bar'},\n",
      " 'model_id': 'Gk1145Bl',\n",
      " 'name': 'My Assistant',\n",
      " 'object': 'Assistant',\n",
      " 'retrievals': [],\n",
      " 'system_prompt_template': ['You are a professional assistant speaking '\n",
      "                            '{{language}}.'],\n",
      " 'tools': []}\n"
     ]
    }
   ],
   "source": [
    "# create an assistant\n",
    "def create_assistant() -> Assistant:\n",
    "    assistant: Assistant = taskingai.assistant.create_assistant(\n",
    "        model_id=model_id,\n",
    "        name=\"My Assistant\",\n",
    "        description=\"This is my assistant\",\n",
    "        system_prompt_template=[\"You are a professional assistant speaking {{language}}.\"],\n",
    "        tools=[],\n",
    "        retrievals=[],\n",
    "        metadata={\"foo\": \"bar\"},\n",
    "    )\n",
    "    return assistant\n",
    "\n",
    "assistant: Assistant = create_assistant()\n",
    "print(f\"created assistant: {assistant}\\n\")"
   ]
  },
  {
   "cell_type": "code",
   "execution_count": 4,
   "outputs": [
    {
     "name": "stdout",
     "output_type": "stream",
     "text": [
      "got assistant: {'assistant_id': 'X5lMbErLu8l4PmoA3aZQt7FX',\n",
      " 'created_timestamp': 1701142100480,\n",
      " 'description': 'This is my assistant',\n",
      " 'metadata': {'foo': 'bar'},\n",
      " 'model_id': 'Gk1145Bl',\n",
      " 'name': 'My Assistant',\n",
      " 'object': 'Assistant',\n",
      " 'retrievals': [],\n",
      " 'system_prompt_template': ['You are a professional assistant speaking '\n",
      "                            '{{language}}.'],\n",
      " 'tools': []}\n"
     ]
    }
   ],
   "source": [
    "# get assistant\n",
    "assistant_id: str = assistant.assistant_id\n",
    "assistant: Assistant = taskingai.assistant.get_assistant(\n",
    "    assistant_id=assistant_id\n",
    ")\n",
    "\n",
    "print(f\"got assistant: {assistant}\\n\")"
   ],
   "metadata": {
    "collapsed": false,
    "ExecuteTime": {
     "end_time": "2023-11-28T03:28:21.684926Z",
     "start_time": "2023-11-28T03:28:20.563489Z"
    }
   }
  },
  {
   "cell_type": "code",
   "execution_count": 5,
   "outputs": [
    {
     "name": "stdout",
     "output_type": "stream",
     "text": [
      "updated assistant: {'assistant_id': 'X5lMbErLu8l4PmoA3aZQt7FX',\n",
      " 'created_timestamp': 1701142100480,\n",
      " 'description': 'This is my new assistant',\n",
      " 'metadata': {'foo': 'bar'},\n",
      " 'model_id': 'Gk1145Bl',\n",
      " 'name': 'My New Assistant',\n",
      " 'object': 'Assistant',\n",
      " 'retrievals': [],\n",
      " 'system_prompt_template': ['You are a professional assistant speaking '\n",
      "                            '{{language}}.'],\n",
      " 'tools': []}\n"
     ]
    }
   ],
   "source": [
    "# update assistant\n",
    "assistant: Assistant = taskingai.assistant.update_assistant(\n",
    "    assistant_id=assistant_id,\n",
    "    name=\"My New Assistant\",\n",
    "    description=\"This is my new assistant\",\n",
    ")\n",
    "\n",
    "print(f\"updated assistant: {assistant}\\n\")\n"
   ],
   "metadata": {
    "collapsed": false,
    "ExecuteTime": {
     "end_time": "2023-11-28T03:28:22.752013Z",
     "start_time": "2023-11-28T03:28:21.681597Z"
    }
   }
  },
  {
   "cell_type": "code",
   "execution_count": 6,
   "outputs": [
    {
     "name": "stdout",
     "output_type": "stream",
     "text": [
      "deleted assistant: X5lMbErLu8l4PmoA3aZQt7FX\n"
     ]
    }
   ],
   "source": [
    "# delete assistant\n",
    "taskingai.assistant.delete_assistant(assistant_id=assistant_id)\n",
    "print(f\"deleted assistant: {assistant_id}\\n\")"
   ],
   "metadata": {
    "collapsed": false,
    "ExecuteTime": {
     "end_time": "2023-11-28T03:28:23.820561Z",
     "start_time": "2023-11-28T03:28:22.744793Z"
    }
   }
  },
  {
   "cell_type": "code",
   "execution_count": 7,
   "outputs": [
    {
     "name": "stdout",
     "output_type": "stream",
     "text": [
      "fX5lMbErLu8l4PmoA3aZQt7FX in assistant_ids: False\n"
     ]
    }
   ],
   "source": [
    "# list assistants\n",
    "assistants = taskingai.assistant.list_assistants()\n",
    "assistant_ids = [assistant.assistant_id for assistant in assistants]\n",
    "# ensure the assistant we deleted is not in the list\n",
    "print(f\"f{assistant_id} in assistant_ids: {assistant_id in assistant_ids}\\n\")"
   ],
   "metadata": {
    "collapsed": false,
    "ExecuteTime": {
     "end_time": "2023-11-28T03:28:24.721147Z",
     "start_time": "2023-11-28T03:28:23.813239Z"
    }
   }
  },
  {
   "cell_type": "markdown",
   "source": [
    "## Chat Object"
   ],
   "metadata": {
    "collapsed": false
   }
  },
  {
   "cell_type": "code",
   "execution_count": 8,
   "outputs": [
    {
     "name": "stdout",
     "output_type": "stream",
     "text": [
      "created chat: SdEL6St9BpnDhvqKYvEBNX34 for assistant: X5lMBhmZXSyO5dyLOWxFTeVt\n"
     ]
    }
   ],
   "source": [
    "# create a new assistant\n",
    "assistant: Assistant = create_assistant()\n",
    "\n",
    "# create a chat\n",
    "chat: Chat = taskingai.assistant.create_chat(\n",
    "    assistant_id=assistant.assistant_id,\n",
    ")\n",
    "print(f\"created chat: {chat.chat_id} for assistant: {assistant.assistant_id}\\n\")"
   ],
   "metadata": {
    "collapsed": false,
    "ExecuteTime": {
     "end_time": "2023-11-28T03:28:26.787643Z",
     "start_time": "2023-11-28T03:28:24.715127Z"
    }
   }
  },
  {
   "cell_type": "code",
   "execution_count": 9,
   "outputs": [
    {
     "name": "stdout",
     "output_type": "stream",
     "text": [
      "got chat: {'assistant_id': 'X5lMBhmZXSyO5dyLOWxFTeVt',\n",
      " 'chat_id': 'SdEL6St9BpnDhvqKYvEBNX34',\n",
      " 'created_timestamp': 1701142106714,\n",
      " 'metadata': {},\n",
      " 'object': 'Chat'}\n"
     ]
    }
   ],
   "source": [
    "# get chat\n",
    "chat_id: str = chat.chat_id\n",
    "chat: Chat = taskingai.assistant.get_chat(\n",
    "    assistant_id=assistant.assistant_id,\n",
    "    chat_id=chat_id,\n",
    ")\n",
    "print(f\"got chat: {chat}\\n\")"
   ],
   "metadata": {
    "collapsed": false,
    "ExecuteTime": {
     "end_time": "2023-11-28T03:28:27.741867Z",
     "start_time": "2023-11-28T03:28:26.778315Z"
    }
   }
  },
  {
   "cell_type": "code",
   "execution_count": 10,
   "outputs": [
    {
     "name": "stdout",
     "output_type": "stream",
     "text": [
      "updated chat: {'assistant_id': 'X5lMBhmZXSyO5dyLOWxFTeVt',\n",
      " 'chat_id': 'SdEL6St9BpnDhvqKYvEBNX34',\n",
      " 'created_timestamp': 1701142106714,\n",
      " 'metadata': {'foo': 'bar'},\n",
      " 'object': 'Chat'}\n"
     ]
    }
   ],
   "source": [
    "# update chat\n",
    "chat: Chat = taskingai.assistant.update_chat(\n",
    "    assistant_id=assistant.assistant_id,\n",
    "    chat_id=chat_id,\n",
    "    metadata={\"foo\": \"bar\"},\n",
    ")\n",
    "print(f\"updated chat: {chat}\\n\")"
   ],
   "metadata": {
    "collapsed": false,
    "ExecuteTime": {
     "end_time": "2023-11-28T03:28:28.826640Z",
     "start_time": "2023-11-28T03:28:27.732438Z"
    }
   }
  },
  {
   "cell_type": "code",
   "execution_count": 11,
   "outputs": [
    {
     "name": "stdout",
     "output_type": "stream",
     "text": [
      "deleted chat: SdEL6St9BpnDhvqKYvEBNX34\n"
     ]
    }
   ],
   "source": [
    "# delete chat\n",
    "taskingai.assistant.delete_chat(\n",
    "    assistant_id=assistant.assistant_id,\n",
    "    chat_id=chat_id,\n",
    ")\n",
    "print(f\"deleted chat: {chat_id}\\n\")"
   ],
   "metadata": {
    "collapsed": false,
    "ExecuteTime": {
     "end_time": "2023-11-28T03:28:29.772361Z",
     "start_time": "2023-11-28T03:28:28.821362Z"
    }
   }
  },
  {
   "cell_type": "code",
   "execution_count": 12,
   "outputs": [
    {
     "name": "stdout",
     "output_type": "stream",
     "text": [
      "num chats = 3\n"
     ]
    }
   ],
   "source": [
    "# list chats    \n",
    "for _ in range(3):\n",
    "    taskingai.assistant.create_chat(\n",
    "        assistant_id=assistant.assistant_id,\n",
    "    )\n",
    "\n",
    "chats = taskingai.assistant.list_chats(\n",
    "    assistant_id=assistant.assistant_id,\n",
    ")\n",
    "print(f\"num chats = {len(chats)}\\n\")"
   ],
   "metadata": {
    "collapsed": false,
    "ExecuteTime": {
     "end_time": "2023-11-28T03:28:33.720987Z",
     "start_time": "2023-11-28T03:28:29.769577Z"
    }
   }
  }
 ],
 "metadata": {
  "language_info": {
   "name": "python"
  },
  "kernelspec": {
   "name": "python3",
   "language": "python",
   "display_name": "Python 3 (ipykernel)"
  }
 },
 "nbformat": 4,
 "nbformat_minor": 2
}
