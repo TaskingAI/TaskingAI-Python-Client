{
 "cells": [
  {
   "cell_type": "code",
   "execution_count": null,
   "metadata": {},
   "outputs": [],
   "source": [
    "import taskingai\n",
    "# Load TaskingAI API Key from environment variable"
   ]
  },
  {
   "cell_type": "markdown",
   "metadata": {
    "collapsed": false
   },
   "source": [
    "# TaskingAI Assistant Module CRUD Example"
   ]
  },
  {
   "cell_type": "code",
   "execution_count": null,
   "metadata": {},
   "outputs": [],
   "source": [
    "# choose an available chat_completion model from your project\n",
    "model_id = \"YOUR_CHAT_COMPLETION_MODEL_ID\""
   ]
  },
  {
   "cell_type": "markdown",
   "metadata": {
    "collapsed": false
   },
   "source": [
    "## Assistant Object"
   ]
  },
  {
   "cell_type": "code",
   "execution_count": null,
   "metadata": {},
   "outputs": [],
   "source": [
    "# create an assistant\n",
    "def create_assistant():\n",
    "    assistant = taskingai.assistant.create_assistant(\n",
    "        model_id=model_id,\n",
    "        name=\"Customer Service Assistant\",\n",
    "        description=\"A professional assistant for customer service.\",\n",
    "        system_prompt_template=[\"You are a professional customer service assistant speaking {{language}}.\"],\n",
    "        memory={\"type\": \"naive\",},\n",
    "        tools=[],\n",
    "        retrievals=[],\n",
    "        retrieval_configs={\n",
    "            \"top_k\": 3, \n",
    "            \"max_tokens\": 4096,\n",
    "            \"method\": \"user_message\"\n",
    "        },\n",
    "        metadata={\"foo\": \"bar\"},\n",
    "    )\n",
    "    return assistant\n",
    "\n",
    "assistant = create_assistant()\n",
    "assistant_id: str = assistant.assistant_id\n",
    "print(f\"created assistant: {assistant}\\n\")"
   ]
  },
  {
   "cell_type": "code",
   "execution_count": null,
   "metadata": {
    "collapsed": false
   },
   "outputs": [],
   "source": [
    "# get assistant\n",
    "assistant = taskingai.assistant.get_assistant(assistant_id)\n",
    "print(f\"got assistant: {assistant}\\n\")"
   ]
  },
  {
   "cell_type": "code",
   "execution_count": null,
   "metadata": {
    "collapsed": false
   },
   "outputs": [],
   "source": [
    "# update assistant\n",
    "assistant = taskingai.assistant.update_assistant(\n",
    "    assistant_id=assistant_id,\n",
    "    name=\"New Assistant Name\",\n",
    "    retrieval_configs={\n",
    "        \"top_k\": 5, \n",
    "        \"max_tokens\": 2048,\n",
    "        \"method\": \"user_message\"\n",
    "    },\n",
    ")\n",
    "print(f\"updated assistant: {assistant}\\n\")"
   ]
  },
  {
   "cell_type": "code",
   "execution_count": null,
   "metadata": {
    "collapsed": false
   },
   "outputs": [],
   "source": [
    "# delete assistant\n",
    "taskingai.assistant.delete_assistant(assistant_id)\n",
    "print(f\"deleted assistant: {assistant_id}\\n\")"
   ]
  },
  {
   "cell_type": "code",
   "execution_count": null,
   "metadata": {
    "collapsed": false
   },
   "outputs": [],
   "source": [
    "# list assistants\n",
    "assistants = taskingai.assistant.list_assistants()\n",
    "assistant_ids = [assistant.assistant_id for assistant in assistants]\n",
    "# ensure the assistant we deleted is not in the list\n",
    "print(f\"f{assistant_id} in assistant_ids: {assistant_id in assistant_ids}\\n\")"
   ]
  },
  {
   "cell_type": "markdown",
   "metadata": {
    "collapsed": false
   },
   "source": [
    "## Chat Object"
   ]
  },
  {
   "cell_type": "code",
   "execution_count": null,
   "metadata": {
    "collapsed": false
   },
   "outputs": [],
   "source": [
    "# create a new assistant\n",
    "assistant = create_assistant()\n",
    "\n",
    "# create a chat\n",
    "chat = taskingai.assistant.create_chat(\n",
    "    assistant_id=assistant.assistant_id,\n",
    ")\n",
    "print(f\"created chat: {chat.chat_id} for assistant: {assistant.assistant_id}\\n\")"
   ]
  },
  {
   "cell_type": "code",
   "execution_count": null,
   "metadata": {
    "collapsed": false
   },
   "outputs": [],
   "source": [
    "# get chat\n",
    "chat_id: str = chat.chat_id\n",
    "chat = taskingai.assistant.get_chat(\n",
    "    assistant_id=assistant.assistant_id,\n",
    "    chat_id=chat_id,\n",
    ")\n",
    "print(f\"chat: {chat}\\n\")"
   ]
  },
  {
   "cell_type": "code",
   "execution_count": null,
   "metadata": {
    "collapsed": false
   },
   "outputs": [],
   "source": [
    "# update chat\n",
    "chat = taskingai.assistant.update_chat(\n",
    "    assistant_id=assistant.assistant_id,\n",
    "    chat_id=chat_id,\n",
    "    name=\"New Chat\",\n",
    "    metadata={\"foo\": \"bar\"},\n",
    ")\n",
    "print(f\"updated chat: {chat}\\n\")"
   ]
  },
  {
   "cell_type": "code",
   "execution_count": null,
   "metadata": {
    "collapsed": false
   },
   "outputs": [],
   "source": [
    "# delete chat\n",
    "taskingai.assistant.delete_chat(\n",
    "    assistant_id=assistant.assistant_id,\n",
    "    chat_id=chat_id,\n",
    ")\n",
    "print(f\"deleted chat: {chat_id}\\n\")"
   ]
  },
  {
   "cell_type": "code",
   "execution_count": null,
   "metadata": {
    "collapsed": false
   },
   "outputs": [],
   "source": [
    "# create chats \n",
    "for _ in range(3):\n",
    "    taskingai.assistant.create_chat(assistant.assistant_id)\n",
    "\n",
    "# list chats\n",
    "chats = taskingai.assistant.list_chats(assistant.assistant_id)\n",
    "print(f\"num chats = {len(chats)}\\n\")"
   ]
  },
  {
   "cell_type": "code",
   "execution_count": null,
   "metadata": {
    "collapsed": false
   },
   "outputs": [],
   "source": [
    "# delete assistant\n",
    "taskingai.assistant.delete_assistant(assistant.assistant_id)"
   ]
  }
 ],
 "metadata": {
  "kernelspec": {
   "display_name": "Python 3 (ipykernel)",
   "language": "python",
   "name": "python3"
  },
  "language_info": {
   "name": "python"
  }
 },
 "nbformat": 4,
 "nbformat_minor": 2
}
