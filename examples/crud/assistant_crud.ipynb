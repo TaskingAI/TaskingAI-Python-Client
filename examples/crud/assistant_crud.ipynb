{
 "cells": [
  {
   "cell_type": "code",
   "execution_count": null,
   "metadata": {},
   "outputs": [],
   "source": [
    "import taskingai\n",
    "# Load TaskingAI API Key from environment variable"
   ]
  },
  {
   "cell_type": "markdown",
   "metadata": {
    "collapsed": false
   },
   "source": [
    "# TaskingAI Assistant Module CRUD Example"
   ]
  },
  {
   "cell_type": "code",
   "execution_count": null,
   "metadata": {},
   "outputs": [],
   "source": [
    "from taskingai.assistant import Assistant, Chat\n",
    "from taskingai.assistant.memory import AssistantNaiveMemory\n",
    "\n",
    "# choose an available chat_completion model from your project\n",
    "model_id = \"YOUR_MODEL_ID\""
   ]
  },
  {
   "cell_type": "markdown",
   "metadata": {
    "collapsed": false
   },
   "source": [
    "## Assistant Object"
   ]
  },
  {
   "cell_type": "code",
   "execution_count": null,
   "metadata": {},
   "outputs": [],
   "source": [
    "from taskingai.assistant import RetrievalConfig, RetrievalMethod\n",
    "\n",
    "# create an assistant\n",
    "def create_assistant() -> Assistant:\n",
    "    assistant: Assistant = taskingai.assistant.create_assistant(\n",
    "        model_id=model_id,\n",
    "        name=\"Customer Service Assistant\",\n",
    "        description=\"A professional assistant for customer service.\",\n",
    "        system_prompt_template=[\"You are a professional customer service assistant speaking {{language}}.\"],\n",
    "        memory=AssistantNaiveMemory(),\n",
    "        tools=[],\n",
    "        retrievals=[],\n",
    "        retrieval_configs=RetrievalConfig(top_k=3, max_tokens=4096, method=RetrievalMethod.USER_MESSAGE),\n",
    "        metadata={\"foo\": \"bar\"},\n",
    "    )\n",
    "    return assistant\n",
    "\n",
    "assistant: Assistant = create_assistant()\n",
    "print(f\"created assistant: {assistant}\\n\")"
   ]
  },
  {
   "cell_type": "code",
   "execution_count": null,
   "metadata": {
    "collapsed": false
   },
   "outputs": [],
   "source": [
    "# get assistant\n",
    "assistant_id: str = assistant.assistant_id\n",
    "assistant: Assistant = taskingai.assistant.get_assistant(\n",
    "    assistant_id=assistant_id\n",
    ")\n",
    "\n",
    "print(f\"got assistant: {assistant}\\n\")"
   ]
  },
  {
   "cell_type": "code",
   "execution_count": null,
   "metadata": {
    "collapsed": false
   },
   "outputs": [],
   "source": [
    "# update assistant\n",
    "assistant: Assistant = taskingai.assistant.update_assistant(\n",
    "    assistant_id=assistant_id,\n",
    "    name=\"New Assistant\",\n",
    "    retrieval_configs=RetrievalConfig(top_k=4, max_tokens=8192, method=RetrievalMethod.USER_MESSAGE),\n",
    ")\n",
    "\n",
    "print(f\"updated assistant: {assistant}\\n\")\n"
   ]
  },
  {
   "cell_type": "code",
   "execution_count": null,
   "metadata": {
    "collapsed": false
   },
   "outputs": [],
   "source": [
    "# delete assistant\n",
    "taskingai.assistant.delete_assistant(assistant_id=assistant_id)\n",
    "print(f\"deleted assistant: {assistant_id}\\n\")"
   ]
  },
  {
   "cell_type": "code",
   "execution_count": null,
   "metadata": {
    "collapsed": false
   },
   "outputs": [],
   "source": [
    "# list assistants\n",
    "assistants = taskingai.assistant.list_assistants()\n",
    "assistant_ids = [assistant.assistant_id for assistant in assistants]\n",
    "# ensure the assistant we deleted is not in the list\n",
    "print(f\"f{assistant_id} in assistant_ids: {assistant_id in assistant_ids}\\n\")"
   ]
  },
  {
   "cell_type": "markdown",
   "metadata": {
    "collapsed": false
   },
   "source": [
    "## Chat Object"
   ]
  },
  {
   "cell_type": "code",
   "execution_count": null,
   "metadata": {
    "collapsed": false
   },
   "outputs": [],
   "source": [
    "# create a new assistant\n",
    "assistant: Assistant = create_assistant()\n",
    "\n",
    "# create a chat\n",
    "chat: Chat = taskingai.assistant.create_chat(\n",
    "    assistant_id=assistant.assistant_id,\n",
    ")\n",
    "print(f\"created chat: {chat.chat_id} for assistant: {assistant.assistant_id}\\n\")"
   ]
  },
  {
   "cell_type": "code",
   "execution_count": null,
   "metadata": {
    "collapsed": false
   },
   "outputs": [],
   "source": [
    "# get chat\n",
    "chat_id: str = chat.chat_id\n",
    "chat: Chat = taskingai.assistant.get_chat(\n",
    "    assistant_id=assistant.assistant_id,\n",
    "    chat_id=chat_id,\n",
    ")\n",
    "print(f\"chat: {chat}\\n\")"
   ]
  },
  {
   "cell_type": "code",
   "execution_count": null,
   "metadata": {
    "collapsed": false
   },
   "outputs": [],
   "source": [
    "# update chat\n",
    "chat: Chat = taskingai.assistant.update_chat(\n",
    "    assistant_id=assistant.assistant_id,\n",
    "    chat_id=chat_id,\n",
    "    name=\"New Chat\",\n",
    "    metadata={\"foo\": \"bar\"},\n",
    ")\n",
    "print(f\"updated chat: {chat}\\n\")"
   ]
  },
  {
   "cell_type": "code",
   "execution_count": null,
   "metadata": {
    "collapsed": false
   },
   "outputs": [],
   "source": [
    "# delete chat\n",
    "taskingai.assistant.delete_chat(\n",
    "    assistant_id=assistant.assistant_id,\n",
    "    chat_id=chat_id,\n",
    ")\n",
    "print(f\"deleted chat: {chat_id}\\n\")"
   ]
  },
  {
   "cell_type": "code",
   "execution_count": null,
   "metadata": {
    "collapsed": false
   },
   "outputs": [],
   "source": [
    "# list chats    \n",
    "for _ in range(3):\n",
    "    taskingai.assistant.create_chat(\n",
    "        assistant_id=assistant.assistant_id,\n",
    "    )\n",
    "\n",
    "chats = taskingai.assistant.list_chats(\n",
    "    assistant_id=assistant.assistant_id,\n",
    ")\n",
    "print(f\"num chats = {len(chats)}\\n\")"
   ]
  },
  {
   "cell_type": "code",
   "execution_count": null,
   "metadata": {
    "collapsed": false
   },
   "outputs": [],
   "source": [
    "# delete assistant\n",
    "taskingai.assistant.delete_assistant(assistant_id=assistant.assistant_id)"
   ]
  }
 ],
 "metadata": {
  "kernelspec": {
   "display_name": "Python 3 (ipykernel)",
   "language": "python",
   "name": "python3"
  },
  "language_info": {
   "name": "python"
  }
 },
 "nbformat": 4,
 "nbformat_minor": 2
}
