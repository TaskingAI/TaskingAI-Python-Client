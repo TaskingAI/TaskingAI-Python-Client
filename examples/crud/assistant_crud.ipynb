{
 "cells": [
  {
   "cell_type": "code",
   "execution_count": null,
   "metadata": {},
   "outputs": [],
   "source": [
    "import taskingai\n",
    "# Load TaskingAI API Key from environment variable"
   ]
  },
  {
   "cell_type": "markdown",
   "source": [
    "# TaskingAI Assistant Module CRUD Example"
   ],
   "metadata": {
    "collapsed": false
   }
  },
  {
   "cell_type": "code",
   "execution_count": null,
   "metadata": {},
   "outputs": [],
   "source": [
    "from taskingai.assistant import Assistant, Chat\n",
    "from taskingai.assistant.memory import AssistantNaiveMemory\n",
    "\n",
    "# choose an available chat_completion model from your project\n",
    "model_id = \"YOUR_MODEL_ID\""
   ]
  },
  {
   "cell_type": "markdown",
   "source": [
    "## Assistant Object"
   ],
   "metadata": {
    "collapsed": false
   }
  },
  {
   "cell_type": "code",
   "execution_count": null,
   "metadata": {},
   "outputs": [],
   "source": [
    "# create an assistant\n",
    "def create_assistant() -> Assistant:\n",
    "    assistant: Assistant = taskingai.assistant.create_assistant(\n",
    "        model_id=model_id,\n",
    "        name=\"My Assistant\",\n",
    "        description=\"This is my assistant\",\n",
    "        system_prompt_template=[\"You are a professional assistant speaking {{language}}.\"],\n",
    "        memory=AssistantNaiveMemory(),\n",
    "        tools=[],\n",
    "        retrievals=[],\n",
    "        metadata={\"foo\": \"bar\"},\n",
    "    )\n",
    "    return assistant\n",
    "\n",
    "assistant: Assistant = create_assistant()\n",
    "print(f\"created assistant: {assistant}\\n\")"
   ]
  },
  {
   "cell_type": "code",
   "execution_count": null,
   "outputs": [],
   "source": [
    "# get assistant\n",
    "assistant_id: str = assistant.assistant_id\n",
    "assistant: Assistant = taskingai.assistant.get_assistant(\n",
    "    assistant_id=assistant_id\n",
    ")\n",
    "\n",
    "print(f\"got assistant: {assistant}\\n\")"
   ],
   "metadata": {
    "collapsed": false
   }
  },
  {
   "cell_type": "code",
   "execution_count": null,
   "outputs": [],
   "source": [
    "# update assistant\n",
    "assistant: Assistant = taskingai.assistant.update_assistant(\n",
    "    assistant_id=assistant_id,\n",
    "    name=\"My New Assistant\",\n",
    "    description=\"This is my new assistant\",\n",
    ")\n",
    "\n",
    "print(f\"updated assistant: {assistant}\\n\")\n"
   ],
   "metadata": {
    "collapsed": false
   }
  },
  {
   "cell_type": "code",
   "execution_count": null,
   "outputs": [],
   "source": [
    "# delete assistant\n",
    "taskingai.assistant.delete_assistant(assistant_id=assistant_id)\n",
    "print(f\"deleted assistant: {assistant_id}\\n\")"
   ],
   "metadata": {
    "collapsed": false
   }
  },
  {
   "cell_type": "code",
   "execution_count": null,
   "outputs": [],
   "source": [
    "# list assistants\n",
    "assistants = taskingai.assistant.list_assistants()\n",
    "assistant_ids = [assistant.assistant_id for assistant in assistants]\n",
    "# ensure the assistant we deleted is not in the list\n",
    "print(f\"f{assistant_id} in assistant_ids: {assistant_id in assistant_ids}\\n\")"
   ],
   "metadata": {
    "collapsed": false
   }
  },
  {
   "cell_type": "markdown",
   "source": [
    "## Chat Object"
   ],
   "metadata": {
    "collapsed": false
   }
  },
  {
   "cell_type": "code",
   "execution_count": null,
   "outputs": [],
   "source": [
    "# create a new assistant\n",
    "assistant: Assistant = create_assistant()\n",
    "\n",
    "# create a chat\n",
    "chat: Chat = taskingai.assistant.create_chat(\n",
    "    assistant_id=assistant.assistant_id,\n",
    ")\n",
    "print(f\"created chat: {chat.chat_id} for assistant: {assistant.assistant_id}\\n\")"
   ],
   "metadata": {
    "collapsed": false
   }
  },
  {
   "cell_type": "code",
   "execution_count": null,
   "outputs": [],
   "source": [
    "# get chat\n",
    "chat_id: str = chat.chat_id\n",
    "chat: Chat = taskingai.assistant.get_chat(\n",
    "    assistant_id=assistant.assistant_id,\n",
    "    chat_id=chat_id,\n",
    ")\n",
    "print(f\"got chat: {chat}\\n\")"
   ],
   "metadata": {
    "collapsed": false
   }
  },
  {
   "cell_type": "code",
   "execution_count": null,
   "outputs": [],
   "source": [
    "# update chat\n",
    "chat: Chat = taskingai.assistant.update_chat(\n",
    "    assistant_id=assistant.assistant_id,\n",
    "    chat_id=chat_id,\n",
    "    metadata={\"foo\": \"bar\"},\n",
    ")\n",
    "print(f\"updated chat: {chat}\\n\")"
   ],
   "metadata": {
    "collapsed": false
   }
  },
  {
   "cell_type": "code",
   "execution_count": null,
   "outputs": [],
   "source": [
    "# delete chat\n",
    "taskingai.assistant.delete_chat(\n",
    "    assistant_id=assistant.assistant_id,\n",
    "    chat_id=chat_id,\n",
    ")\n",
    "print(f\"deleted chat: {chat_id}\\n\")"
   ],
   "metadata": {
    "collapsed": false
   }
  },
  {
   "cell_type": "code",
   "execution_count": null,
   "outputs": [],
   "source": [
    "# list chats    \n",
    "for _ in range(3):\n",
    "    taskingai.assistant.create_chat(\n",
    "        assistant_id=assistant.assistant_id,\n",
    "    )\n",
    "\n",
    "chats = taskingai.assistant.list_chats(\n",
    "    assistant_id=assistant.assistant_id,\n",
    ")\n",
    "print(f\"num chats = {len(chats)}\\n\")"
   ],
   "metadata": {
    "collapsed": false
   }
  },
  {
   "cell_type": "code",
   "execution_count": null,
   "outputs": [],
   "source": [
    "# delete assistant\n",
    "taskingai.assistant.delete_assistant(assistant_id=assistant.assistant_id)"
   ],
   "metadata": {
    "collapsed": false
   }
  }
 ],
 "metadata": {
  "language_info": {
   "name": "python"
  },
  "kernelspec": {
   "name": "python3",
   "language": "python",
   "display_name": "Python 3 (ipykernel)"
  }
 },
 "nbformat": 4,
 "nbformat_minor": 2
}
