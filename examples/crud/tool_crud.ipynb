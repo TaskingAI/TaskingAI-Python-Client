{
 "cells": [
  {
   "cell_type": "code",
   "execution_count": 1,
   "id": "initial_id",
   "metadata": {
    "collapsed": true,
    "ExecuteTime": {
     "end_time": "2023-11-28T07:09:49.102426Z",
     "start_time": "2023-11-28T07:09:49.061326Z"
    }
   },
   "outputs": [],
   "source": [
    "import taskingai\n",
    "# Load TaskingAI API Key from environment variable"
   ]
  },
  {
   "cell_type": "markdown",
   "source": [
    "# TasingAI Tool Module CRUD"
   ],
   "metadata": {
    "collapsed": false
   },
   "id": "43e38e6ab25cd370"
  },
  {
   "cell_type": "code",
   "execution_count": 2,
   "outputs": [],
   "source": [
    "from taskingai.tool import Action, Function"
   ],
   "metadata": {
    "collapsed": false,
    "ExecuteTime": {
     "end_time": "2023-11-28T07:09:50.420467Z",
     "start_time": "2023-11-28T07:09:50.403560Z"
    }
   },
   "id": "1da88cd4d728ced9"
  },
  {
   "cell_type": "markdown",
   "source": [
    "## Action Object"
   ],
   "metadata": {
    "collapsed": false
   },
   "id": "5ab9d33db7c623a5"
  },
  {
   "cell_type": "code",
   "execution_count": 3,
   "outputs": [
    {
     "name": "stdout",
     "output_type": "stream",
     "text": [
      "created action: {'action_id': 'bFBdAAXYO6B0X1AbZwvEXxjA',\n",
      " 'authentication': {'content': None, 'secret': None, 'type': 'none'},\n",
      " 'created_timestamp': 1701155392625,\n",
      " 'object': 'Action',\n",
      " 'schema': {'components': {},\n",
      "            'info': {'description': 'API for fetching interesting number facts',\n",
      "                     'title': 'Numbers API',\n",
      "                     'version': '1.0.0'},\n",
      "            'openapi': '3.0.0',\n",
      "            'paths': {'/{number}': {'get': {'parameters': [{'description': 'The '\n",
      "                                                                           'number '\n",
      "                                                                           'to '\n",
      "                                                                           'get '\n",
      "                                                                           'the '\n",
      "                                                                           'fact '\n",
      "                                                                           'for',\n",
      "                                                            'in': 'path',\n",
      "                                                            'name': 'number',\n",
      "                                                            'required': True,\n",
      "                                                            'schema': {'type': 'integer'}}],\n",
      "                                            'responses': {'200': {'content': {'text/plain': {'schema': {'type': 'string'}}},\n",
      "                                                                  'description': 'A '\n",
      "                                                                                 'fact '\n",
      "                                                                                 'about '\n",
      "                                                                                 'the '\n",
      "                                                                                 'number'}},\n",
      "                                            'summary': 'Get fact about a '\n",
      "                                                       'number'}}},\n",
      "            'security': [],\n",
      "            'servers': [{'url': 'http://numbersapi.com'}]}}\n"
     ]
    }
   ],
   "source": [
    "from taskingai.tool import ActionAuthentication, ActionAuthenticationType\n",
    "from typing import List\n",
    "\n",
    "# create an Action\n",
    "NUMBERS_API_SCHEMA = {\n",
    "        \"openapi\": \"3.0.0\",\n",
    "        \"info\": {\n",
    "            \"title\": \"Numbers API\",\n",
    "            \"version\": \"1.0.0\",\n",
    "            \"description\": \"API for fetching interesting number facts\"\n",
    "        },\n",
    "        \"servers\": [\n",
    "            {\n",
    "            \"url\": \"http://numbersapi.com\"\n",
    "            }\n",
    "        ],\n",
    "        \"paths\": {\n",
    "            \"/{number}\": {\n",
    "            \"get\": {\n",
    "                \"summary\": \"Get fact about a number\",\n",
    "                \"parameters\": [\n",
    "                {\n",
    "                    \"name\": \"number\",\n",
    "                    \"in\": \"path\",\n",
    "                    \"required\": True,\n",
    "                    \"description\": \"The number to get the fact for\",\n",
    "                    \"schema\": {\n",
    "                    \"type\": \"integer\"\n",
    "                    }\n",
    "                }\n",
    "                ],\n",
    "                \"responses\": {\n",
    "                \"200\": {\n",
    "                    \"description\": \"A fact about the number\",\n",
    "                    \"content\": {\n",
    "                    \"text/plain\": {\n",
    "                        \"schema\": {\n",
    "                        \"type\": \"string\"\n",
    "                        }\n",
    "                    }\n",
    "                    }\n",
    "                }\n",
    "                }\n",
    "            }\n",
    "        }\n",
    "    }\n",
    "}\n",
    "actions: List[Action] = taskingai.tool.bulk_create_actions(\n",
    "    schema=NUMBERS_API_SCHEMA,\n",
    "    authentication=ActionAuthentication(\n",
    "        type=ActionAuthenticationType.NONE,\n",
    "    )\n",
    ")\n",
    "action = actions[0]\n",
    "print(f\"created action: {action}\\n\")"
   ],
   "metadata": {
    "collapsed": false,
    "ExecuteTime": {
     "end_time": "2023-11-28T07:09:52.745555Z",
     "start_time": "2023-11-28T07:09:51.708768Z"
    }
   },
   "id": "1b40bb3464107aa6"
  },
  {
   "cell_type": "code",
   "execution_count": 4,
   "outputs": [
    {
     "name": "stdout",
     "output_type": "stream",
     "text": [
      "got action: {'action_id': 'bFBdAAXYO6B0X1AbZwvEXxjA',\n",
      " 'authentication': {'content': None, 'secret': None, 'type': 'none'},\n",
      " 'created_timestamp': 1701155392625,\n",
      " 'object': 'Action',\n",
      " 'schema': {'components': {},\n",
      "            'info': {'description': 'API for fetching interesting number facts',\n",
      "                     'title': 'Numbers API',\n",
      "                     'version': '1.0.0'},\n",
      "            'openapi': '3.0.0',\n",
      "            'paths': {'/{number}': {'get': {'parameters': [{'description': 'The '\n",
      "                                                                           'number '\n",
      "                                                                           'to '\n",
      "                                                                           'get '\n",
      "                                                                           'the '\n",
      "                                                                           'fact '\n",
      "                                                                           'for',\n",
      "                                                            'in': 'path',\n",
      "                                                            'name': 'number',\n",
      "                                                            'required': True,\n",
      "                                                            'schema': {'type': 'integer'}}],\n",
      "                                            'responses': {'200': {'content': {'text/plain': {'schema': {'type': 'string'}}},\n",
      "                                                                  'description': 'A '\n",
      "                                                                                 'fact '\n",
      "                                                                                 'about '\n",
      "                                                                                 'the '\n",
      "                                                                                 'number'}},\n",
      "                                            'summary': 'Get fact about a '\n",
      "                                                       'number'}}},\n",
      "            'security': [],\n",
      "            'servers': [{'url': 'http://numbersapi.com'}]}}\n"
     ]
    }
   ],
   "source": [
    "# get action\n",
    "action_id: str = action.action_id\n",
    "action: Action = taskingai.tool.get_action(\n",
    "    action_id=action_id\n",
    ")\n",
    "\n",
    "print(f\"got action: {action}\\n\")"
   ],
   "metadata": {
    "collapsed": false,
    "ExecuteTime": {
     "end_time": "2023-11-28T07:09:59.797187Z",
     "start_time": "2023-11-28T07:09:58.796202Z"
    }
   },
   "id": "e991bb600ca2bca9"
  },
  {
   "cell_type": "code",
   "execution_count": 5,
   "outputs": [
    {
     "name": "stdout",
     "output_type": "stream",
     "text": [
      "updated action: {'action_id': 'bFBdXmaIak6LBDjmNb7LFWdc',\n",
      " 'authentication': {'content': None, 'secret': None, 'type': 'none'},\n",
      " 'created_timestamp': 1701155360846,\n",
      " 'object': 'Action',\n",
      " 'schema': {'info': {'description': 'API for fetching interesting number facts',\n",
      "                     'title': 'Numbers API',\n",
      "                     'version': '1.0.0'},\n",
      "            'openapi': '3.0.0',\n",
      "            'paths': {'/{number}': {'get': {'parameters': [{'description': 'The '\n",
      "                                                                           'number '\n",
      "                                                                           'to '\n",
      "                                                                           'get '\n",
      "                                                                           'the '\n",
      "                                                                           'fact '\n",
      "                                                                           'for',\n",
      "                                                            'in': 'path',\n",
      "                                                            'name': 'number',\n",
      "                                                            'required': True,\n",
      "                                                            'schema': {'type': 'integer'}}],\n",
      "                                            'responses': {'200': {'content': {'text/plain': {'schema': {'type': 'string'}}},\n",
      "                                                                  'description': 'A '\n",
      "                                                                                 'fact '\n",
      "                                                                                 'about '\n",
      "                                                                                 'the '\n",
      "                                                                                 'number'}},\n",
      "                                            'summary': 'Get fun fact about a '\n",
      "                                                       'number)'}}},\n",
      "            'servers': [{'url': 'http://numbersapi.com'}]}}\n"
     ]
    }
   ],
   "source": [
    "# update action\n",
    "NUMBERS_API_SCHEMA[\"paths\"][\"/{number}\"][\"get\"][\"summary\"] = \"Get fun fact about a number)\"\n",
    "action: Action = taskingai.tool.update_action(\n",
    "    action_id=action_id,\n",
    "    schema=NUMBERS_API_SCHEMA\n",
    ")\n",
    "\n",
    "print(f\"updated action: {action}\\n\")"
   ],
   "metadata": {
    "collapsed": false,
    "ExecuteTime": {
     "end_time": "2023-11-28T07:09:25.048213Z",
     "start_time": "2023-11-28T07:09:24.147021Z"
    }
   },
   "id": "495db38e51c0531f"
  },
  {
   "cell_type": "code",
   "execution_count": 10,
   "outputs": [
    {
     "name": "stdout",
     "output_type": "stream",
     "text": [
      "ran action result: {'status': 200, 'data': '127 is the atomic number of Unbiseptium, an element that has not yet been discovered.'}\n"
     ]
    }
   ],
   "source": [
    "# run action for test purpose\n",
    "result = taskingai.tool.run_action(\n",
    "    action_id=action_id,\n",
    "    parameters={\n",
    "        \"number\": 127\n",
    "    }\n",
    ")\n",
    "print(f\"ran action result: {result}\\n\")"
   ],
   "metadata": {
    "collapsed": false,
    "ExecuteTime": {
     "end_time": "2023-11-28T07:19:37.431926Z",
     "start_time": "2023-11-28T07:19:36.227121Z"
    }
   },
   "id": "36d4c722d4b9bd74"
  },
  {
   "cell_type": "code",
   "execution_count": 11,
   "outputs": [
    {
     "name": "stdout",
     "output_type": "stream",
     "text": [
      "deleted action: bFBdAAXYO6B0X1AbZwvEXxjA\n"
     ]
    }
   ],
   "source": [
    "# delete action\n",
    "taskingai.tool.delete_action(action_id=action_id)\n",
    "print(f\"deleted action: {action_id}\\n\")"
   ],
   "metadata": {
    "collapsed": false,
    "ExecuteTime": {
     "end_time": "2023-11-28T07:19:39.304243Z",
     "start_time": "2023-11-28T07:19:38.238621Z"
    }
   },
   "id": "dd53cb15efa35298"
  },
  {
   "cell_type": "code",
   "execution_count": 12,
   "outputs": [
    {
     "name": "stdout",
     "output_type": "stream",
     "text": [
      "fbFBdAAXYO6B0X1AbZwvEXxjA in action_ids: False\n"
     ]
    }
   ],
   "source": [
    "# list actions\n",
    "actions = taskingai.tool.list_actions()\n",
    "action_ids = [action.action_id for action in actions]\n",
    "# ensure the action we deleted is not in the list\n",
    "print(f\"f{action_id} in action_ids: {action_id in action_ids}\\n\")"
   ],
   "metadata": {
    "collapsed": false,
    "ExecuteTime": {
     "end_time": "2023-11-28T07:19:44.780194Z",
     "start_time": "2023-11-28T07:19:43.747175Z"
    }
   },
   "id": "5a1a36d15055918f"
  },
  {
   "cell_type": "markdown",
   "source": [],
   "metadata": {
    "collapsed": false
   },
   "id": "2f288bf5d1988887"
  },
  {
   "cell_type": "markdown",
   "source": [],
   "metadata": {
    "collapsed": false
   },
   "id": "b1736bf2e80c2dd6"
  }
 ],
 "metadata": {
  "kernelspec": {
   "display_name": "Python 3",
   "language": "python",
   "name": "python3"
  },
  "language_info": {
   "codemirror_mode": {
    "name": "ipython",
    "version": 2
   },
   "file_extension": ".py",
   "mimetype": "text/x-python",
   "name": "python",
   "nbconvert_exporter": "python",
   "pygments_lexer": "ipython2",
   "version": "2.7.6"
  }
 },
 "nbformat": 4,
 "nbformat_minor": 5
}
