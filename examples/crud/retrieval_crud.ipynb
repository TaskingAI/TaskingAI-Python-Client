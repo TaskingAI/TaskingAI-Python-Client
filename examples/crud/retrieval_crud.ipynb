{
 "cells": [
  {
   "cell_type": "code",
   "execution_count": null,
   "id": "initial_id",
   "metadata": {
    "collapsed": true
   },
   "outputs": [],
   "source": [
    "import taskingai\n",
    "import time\n",
    "# Load TaskingAI API Key from environment variable"
   ]
  },
  {
   "cell_type": "markdown",
   "source": [
    "# TaskingAI Retrieval Module CRUD Example"
   ],
   "metadata": {
    "collapsed": false
   },
   "id": "40014270c97e4463"
  },
  {
   "cell_type": "code",
   "execution_count": null,
   "outputs": [],
   "source": [
    "from taskingai.retrieval import Collection, Record\n",
    "\n",
    "# choose an available text_embedding model from your project\n",
    "embedding_model_id = \"YOUR_MODEL_ID\""
   ],
   "metadata": {
    "collapsed": false
   },
   "id": "b7b7f8d3b36c0126"
  },
  {
   "cell_type": "markdown",
   "source": [
    "## Collection Object"
   ],
   "metadata": {
    "collapsed": false
   },
   "id": "a6874f1ff8ec5a9c"
  },
  {
   "cell_type": "code",
   "execution_count": null,
   "outputs": [],
   "source": [
    "# create a collection\n",
    "def create_collection() -> Collection:\n",
    "    collection: Collection = taskingai.retrieval.create_collection(\n",
    "        embedding_model_id=embedding_model_id,\n",
    "        capacity=1000 # maximum text chunks can be stored \n",
    "    )\n",
    "    return collection\n",
    "\n",
    "collection: Collection = create_collection()\n",
    "print(f\"created collection: {collection}\")"
   ],
   "metadata": {
    "collapsed": false
   },
   "id": "ca5934605bd0adf8"
  },
  {
   "cell_type": "code",
   "execution_count": null,
   "outputs": [],
   "source": [
    "# get collection\n",
    "collection_id: str = collection.collection_id\n",
    "collection: Collection = taskingai.retrieval.get_collection(\n",
    "    collection_id=collection_id\n",
    ")\n",
    "\n",
    "print(f\"got collection: {collection}\\n\")"
   ],
   "metadata": {
    "collapsed": false
   },
   "id": "491c0ffe91ac524b"
  },
  {
   "cell_type": "code",
   "execution_count": null,
   "outputs": [],
   "source": [
    "# update collection\n",
    "collection: Collection = taskingai.retrieval.update_collection(\n",
    "    collection_id=collection_id,\n",
    "    metadata={\"foo\": \"bar\"}\n",
    ")\n",
    "\n",
    "print(f\"updated collection: {collection}\\n\")\n"
   ],
   "metadata": {
    "collapsed": false
   },
   "id": "11e1c69e34d544a7"
  },
  {
   "cell_type": "code",
   "execution_count": null,
   "outputs": [],
   "source": [
    "# delete collection\n",
    "taskingai.retrieval.delete_collection(collection_id=collection_id)\n",
    "print(f\"deleted collection: {collection_id}\\n\")"
   ],
   "metadata": {
    "collapsed": false
   },
   "id": "e65087e786df1b14"
  },
  {
   "cell_type": "code",
   "execution_count": null,
   "outputs": [],
   "source": [
    "# list collections\n",
    "collections = taskingai.retrieval.list_collections()\n",
    "collection_ids = [collection.collection_id for collection in collections]\n",
    "# ensure the collection we deleted is not in the list\n",
    "print(f\"f{collection_id} in collection_ids: {collection_id in collection_ids}\\n\")"
   ],
   "metadata": {
    "collapsed": false
   },
   "id": "c8f8cf1c5ec5f069"
  },
  {
   "cell_type": "markdown",
   "source": [
    "## Record Object"
   ],
   "metadata": {
    "collapsed": false
   },
   "id": "1b7688a3cf40c241"
  },
  {
   "cell_type": "markdown",
   "source": [],
   "metadata": {
    "collapsed": false
   },
   "id": "dbc3aafe16758b4c"
  },
  {
   "cell_type": "code",
   "execution_count": null,
   "outputs": [],
   "source": [
    "# create a new collection\n",
    "collection: Collection = create_collection()\n",
    "\n",
    "# wait for the collection creation to finish\n",
    "time.sleep(10)"
   ],
   "metadata": {
    "collapsed": false
   },
   "id": "f1107f5ac4cb27b9"
  },
  {
   "cell_type": "code",
   "execution_count": null,
   "outputs": [],
   "source": [
    "# create a new text record\n",
    "record: Record = taskingai.retrieval.create_text_record(\n",
    "    collection_id=collection.collection_id,\n",
    "    text=\"Machine learning is a subfield of artificial intelligence (AI) that involves the development of algorithms that allow computers to learn from and make decisions or predictions based on data. The term \\\"machine learning\\\" was coined by Arthur Samuel in 1959. In other words, machine learning enables a system to automatically learn and improve from experience without being explicitly programmed. This is achieved by feeding the system massive amounts of data, which it uses to learn patterns and make inferences. There are three main types of machine learning: 1. Supervised Learning: This is where the model is given labeled training data and the goal of learning is to generalize from the training data to unseen situations in a principled way. 2. Unsupervised Learning: This involves training on a dataset without explicit labels. The goal might be to discover inherent groupings or patterns within the data. 3. Reinforcement Learning: In this type, an agent learns to perform actions based on reward/penalty feedback to achieve a goal. It's commonly used in robotics, gaming, and navigation. Deep learning, a subset of machine learning, uses neural networks with many layers (\\\"deep\\\" structures) and has been responsible for many recent breakthroughs in AI, including speech recognition, image recognition, and natural language processing. It's important to note that machine learning is a rapidly developing field, with new techniques and applications emerging regularly.\"\n",
    ")\n",
    "print(f\"created record: {record.record_id} for collection: {collection.collection_id}\\n\")"
   ],
   "metadata": {
    "collapsed": false
   },
   "id": "87bab2ace805b8ef"
  },
  {
   "cell_type": "code",
   "execution_count": null,
   "outputs": [],
   "source": [
    "# get text record\n",
    "record = taskingai.retrieval.get_record(\n",
    "    collection_id=collection.collection_id,\n",
    "    record_id=record.record_id\n",
    ")\n",
    "print(f\"got record: {record}\\n\")"
   ],
   "metadata": {
    "collapsed": false
   },
   "id": "2dba1ef4650bd5cc"
  },
  {
   "cell_type": "code",
   "execution_count": null,
   "outputs": [],
   "source": [
    "# update record\n",
    "record = taskingai.retrieval.update_record(\n",
    "    collection_id=collection.collection_id,\n",
    "    record_id=record.record_id,\n",
    "    metadata={\"foo\": \"bar\"}, # currently only metadata update is supported\n",
    ")\n",
    "print(f\"updated record: {record}\")"
   ],
   "metadata": {
    "collapsed": false
   },
   "id": "65d833b22e1e657"
  },
  {
   "cell_type": "code",
   "execution_count": null,
   "outputs": [],
   "source": [
    "# delete record\n",
    "taskingai.retrieval.delete_record(\n",
    "    collection_id=collection.collection_id,\n",
    "    record_id=record.record_id,\n",
    ")\n",
    "print(f\"deleted record {record.record_id} from collection {collection.collection_id}\\n\")"
   ],
   "metadata": {
    "collapsed": false
   },
   "id": "d00ac0cbfb491116"
  },
  {
   "cell_type": "code",
   "execution_count": null,
   "outputs": [],
   "source": [
    "# list records\n",
    "records = taskingai.retrieval.list_records(collection_id=collection.collection_id)\n",
    "record_ids = [record.record_id for record in records]\n",
    "# ensure the collection we deleted is not in the list\n",
    "print(f\"f{record.record_id} in record_ids: {record.record_id in record_ids}\\n\")"
   ],
   "metadata": {
    "collapsed": false
   },
   "id": "accf6d883fcffaa8"
  }
 ],
 "metadata": {
  "kernelspec": {
   "display_name": "Python 3",
   "language": "python",
   "name": "python3"
  },
  "language_info": {
   "codemirror_mode": {
    "name": "ipython",
    "version": 2
   },
   "file_extension": ".py",
   "mimetype": "text/x-python",
   "name": "python",
   "nbconvert_exporter": "python",
   "pygments_lexer": "ipython2",
   "version": "2.7.6"
  }
 },
 "nbformat": 4,
 "nbformat_minor": 5
}
