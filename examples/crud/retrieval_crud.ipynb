{
 "cells": [
  {
   "cell_type": "code",
   "execution_count": null,
   "id": "initial_id",
   "metadata": {
    "collapsed": true
   },
   "outputs": [],
   "source": [
    "import taskingai\n",
    "# Load TaskingAI API Key from environment variable"
   ]
  },
  {
   "cell_type": "markdown",
   "id": "40014270c97e4463",
   "metadata": {
    "collapsed": false
   },
   "source": [
    "# TaskingAI Retrieval Module CRUD Example"
   ]
  },
  {
   "cell_type": "code",
   "execution_count": null,
   "id": "b7b7f8d3b36c0126",
   "metadata": {
    "collapsed": false
   },
   "outputs": [],
   "source": [
    "from taskingai.retrieval import Collection, Record, Chunk, TokenTextSplitter\n",
    "\n",
    "# choose an available text_embedding model from your project\n",
    "embedding_model_id = \"YOUR_EMBEDDING_MODEL_ID\""
   ]
  },
  {
   "cell_type": "markdown",
   "id": "a6874f1ff8ec5a9c",
   "metadata": {
    "collapsed": false
   },
   "source": [
    "## Collection Object"
   ]
  },
  {
   "cell_type": "code",
   "execution_count": null,
   "id": "81ec82280d5c8c64",
   "metadata": {
    "collapsed": false
   },
   "outputs": [],
   "source": [
    "collections = taskingai.retrieval.list_collections()\n",
    "print(collections)"
   ]
  },
  {
   "cell_type": "code",
   "execution_count": null,
   "id": "ca5934605bd0adf8",
   "metadata": {
    "collapsed": false
   },
   "outputs": [],
   "source": [
    "# create a collection\n",
    "def create_collection() -> Collection:\n",
    "    collection: Collection = taskingai.retrieval.create_collection(\n",
    "        embedding_model_id=embedding_model_id,\n",
    "        capacity=1000 # maximum text chunks can be stored \n",
    "    )\n",
    "    return collection\n",
    "\n",
    "collection: Collection = create_collection()\n",
    "print(f\"created collection: {collection}\")"
   ]
  },
  {
   "cell_type": "code",
   "execution_count": null,
   "id": "491c0ffe91ac524b",
   "metadata": {
    "collapsed": false
   },
   "outputs": [],
   "source": [
    "# get collection\n",
    "collection_id: str = collection.collection_id\n",
    "collection: Collection = taskingai.retrieval.get_collection(\n",
    "    collection_id=collection_id\n",
    ")\n",
    "\n",
    "print(f\"collection: {collection}\\n\")"
   ]
  },
  {
   "cell_type": "code",
   "execution_count": null,
   "id": "11e1c69e34d544a7",
   "metadata": {
    "collapsed": false
   },
   "outputs": [],
   "source": [
    "# update collection\n",
    "collection: Collection = taskingai.retrieval.update_collection(\n",
    "    collection_id=collection_id,\n",
    "    metadata={\"foo\": \"bar\"}\n",
    ")\n",
    "\n",
    "print(f\"updated collection: {collection}\\n\")\n"
   ]
  },
  {
   "cell_type": "code",
   "execution_count": null,
   "id": "e65087e786df1b14",
   "metadata": {
    "collapsed": false
   },
   "outputs": [],
   "source": [
    "# delete collection\n",
    "taskingai.retrieval.delete_collection(collection_id=collection_id)\n",
    "print(f\"deleted collection: {collection_id}\\n\")"
   ]
  },
  {
   "cell_type": "code",
   "execution_count": null,
   "id": "c8f8cf1c5ec5f069",
   "metadata": {
    "collapsed": false
   },
   "outputs": [],
   "source": [
    "# list collections\n",
    "collections = taskingai.retrieval.list_collections()\n",
    "collection_ids = [collection.collection_id for collection in collections]\n",
    "# ensure the collection we deleted is not in the list\n",
    "print(f\"f{collection_id} in collection_ids: {collection_id in collection_ids}\\n\")"
   ]
  },
  {
   "cell_type": "markdown",
   "id": "1b7688a3cf40c241",
   "metadata": {
    "collapsed": false
   },
   "source": [
    "## Record Object"
   ]
  },
  {
   "cell_type": "code",
   "execution_count": null,
   "id": "f1107f5ac4cb27b9",
   "metadata": {
    "collapsed": false
   },
   "outputs": [],
   "source": [
    "# create a new collection\n",
    "collection: Collection = create_collection()\n",
    "print(collection)"
   ]
  },
  {
   "cell_type": "markdown",
   "id": "49ce1a09",
   "metadata": {},
   "source": [
    "### Text Record"
   ]
  },
  {
   "cell_type": "code",
   "execution_count": null,
   "id": "87bab2ace805b8ef",
   "metadata": {
    "collapsed": false
   },
   "outputs": [],
   "source": [
    "# create a new text record\n",
    "record: Record = taskingai.retrieval.create_record(\n",
    "    collection_id=collection.collection_id,\n",
    "    type=\"text\",\n",
    "    title=\"Machine learning\",\n",
    "    content=\"Machine learning is a subfield of artificial intelligence (AI) that involves the development of algorithms that allow computers to learn from and make decisions or predictions based on data. The term \\\"machine learning\\\" was coined by Arthur Samuel in 1959. In other words, machine learning enables a system to automatically learn and improve from experience without being explicitly programmed. This is achieved by feeding the system massive amounts of data, which it uses to learn patterns and make inferences. There are three main types of machine learning: 1. Supervised Learning: This is where the model is given labeled training data and the goal of learning is to generalize from the training data to unseen situations in a principled way. 2. Unsupervised Learning: This involves training on a dataset without explicit labels. The goal might be to discover inherent groupings or patterns within the data. 3. Reinforcement Learning: In this type, an agent learns to perform actions based on reward/penalty feedback to achieve a goal. It's commonly used in robotics, gaming, and navigation. Deep learning, a subset of machine learning, uses neural networks with many layers (\\\"deep\\\" structures) and has been responsible for many recent breakthroughs in AI, including speech recognition, image recognition, and natural language processing. It's important to note that machine learning is a rapidly developing field, with new techniques and applications emerging regularly.\",\n",
    "    text_splitter={\"type\": \"token\", \"chunk_size\": 200, \"chunk_overlap\": 20}\n",
    ")\n",
    "print(f\"created record: {record.record_id} for collection: {collection.collection_id}\\n\")"
   ]
  },
  {
   "cell_type": "code",
   "execution_count": null,
   "id": "4369989d2bd1a777",
   "metadata": {
    "collapsed": false
   },
   "outputs": [],
   "source": [
    "# update record - content\n",
    "record = taskingai.retrieval.update_record(\n",
    "    record_id=record.record_id,\n",
    "    collection_id=collection.collection_id,\n",
    "    type=\"text\",\n",
    "    title=\"New title\",\n",
    "    content=\"New content\",\n",
    "    text_splitter={\"type\": \"token\", \"chunk_size\": 100, \"chunk_overlap\": 20},\n",
    ")\n",
    "print(f\"updated record: {record}\")"
   ]
  },
  {
   "cell_type": "markdown",
   "id": "51527a19",
   "metadata": {},
   "source": [
    "### Web Record"
   ]
  },
  {
   "cell_type": "code",
   "execution_count": null,
   "id": "678df05a",
   "metadata": {},
   "outputs": [],
   "source": [
    "# create a new web record\n",
    "record: Record = taskingai.retrieval.create_record(\n",
    "    collection_id=collection.collection_id,\n",
    "    type=\"web\",\n",
    "    title=\"Machine learning\",\n",
    "    url=\"https://www.tasking.ai\", # must https\n",
    "    text_splitter={\"type\": \"token\", \"chunk_size\": 200, \"chunk_overlap\": 20},\n",
    ")\n",
    "print(f\"created record: {record.record_id} for collection: {collection.collection_id}\\n\")"
   ]
  },
  {
   "cell_type": "code",
   "execution_count": null,
   "id": "74fad2e5",
   "metadata": {},
   "outputs": [],
   "source": [
    "# update record - url\n",
    "record = taskingai.retrieval.update_record(\n",
    "    collection_id=collection.collection_id,\n",
    "    record_id=record.record_id,\n",
    "    type=\"web\",\n",
    "    url=\"https://docs.tasking.ai\",\n",
    "    text_splitter={\"type\": \"token\", \"chunk_size\": 200, \"chunk_overlap\": 20},\n",
    ")\n",
    "print(f\"updated record: {record}\")"
   ]
  },
  {
   "cell_type": "markdown",
   "id": "ab6a2f62",
   "metadata": {},
   "source": [
    "### File Record"
   ]
  },
  {
   "cell_type": "code",
   "execution_count": null,
   "id": "8ba29fc6",
   "metadata": {},
   "outputs": [],
   "source": [
    "# upload a file first\n",
    "from taskingai.file import upload_file\n",
    "\n",
    "file = upload_file(file=\"your file path\", purpose=\"record_file\")\n",
    "# or\n",
    "# file = upload_file(file=open(\"your file path\", \"rb\"), purpose=\"record_file\")\n",
    "print(f\"uploaded file id: {file.file_id}\")\n",
    "\n",
    "# create a new web record\n",
    "record: Record = taskingai.retrieval.create_record(\n",
    "    collection_id=collection.collection_id,\n",
    "    type=\"file\",\n",
    "    title=\"Machine learning\",\n",
    "    file_id=file.file_id,\n",
    "    text_splitter={\"type\": \"token\", \"chunk_size\": 200, \"chunk_overlap\": 20},\n",
    ")\n",
    "print(f\"created record: {record.record_id} for collection: {collection.collection_id}\\n\")"
   ]
  },
  {
   "cell_type": "code",
   "execution_count": null,
   "id": "07b449bf",
   "metadata": {},
   "outputs": [],
   "source": [
    "new_file = upload_file(file=\"new_file_path\", purpose=\"record_file\")\n",
    "print(f\"new uploaded file id: {new_file.file_id}\")\n",
    "\n",
    "# update record - file\n",
    "record = taskingai.retrieval.update_record(\n",
    "    collection_id=collection.collection_id,\n",
    "    record_id=record.record_id,\n",
    "    type=\"file\",\n",
    "    file_id=new_file.file_id,\n",
    "    text_splitter={\"type\": \"token\", \"chunk_size\": 200, \"chunk_overlap\": 20},\n",
    ")\n",
    "print(f\"updated record: {record}\")"
   ]
  },
  {
   "cell_type": "markdown",
   "id": "15465ad8",
   "metadata": {},
   "source": [
    "### Record Other Cases"
   ]
  },
  {
   "cell_type": "code",
   "execution_count": null,
   "id": "65d833b22e1e657",
   "metadata": {
    "collapsed": false
   },
   "outputs": [],
   "source": [
    "# update record - metadata\n",
    "record = taskingai.retrieval.update_record(\n",
    "    collection_id=collection.collection_id,\n",
    "    record_id=record.record_id,\n",
    "    metadata={\"foo\": \"bar\"},\n",
    ")\n",
    "print(f\"updated record: {record}\")"
   ]
  },
  {
   "cell_type": "code",
   "execution_count": null,
   "id": "37f19821",
   "metadata": {},
   "outputs": [],
   "source": [
    "# get text record\n",
    "record = taskingai.retrieval.get_record(\n",
    "    collection_id=collection.collection_id,\n",
    "    record_id=record.record_id\n",
    ")\n",
    "print(f\"got record: {record}\\n\")"
   ]
  },
  {
   "cell_type": "code",
   "execution_count": null,
   "id": "accf6d883fcffaa8",
   "metadata": {
    "collapsed": false
   },
   "outputs": [],
   "source": [
    "# list records\n",
    "records = taskingai.retrieval.list_records(collection_id=collection.collection_id)\n",
    "record_ids = [record.record_id for record in records]\n",
    "# ensure the collection we deleted is not in the list\n",
    "print(f\"f{record.record_id} in record_ids: {record.record_id in record_ids}\\n\")"
   ]
  },
  {
   "cell_type": "code",
   "execution_count": null,
   "id": "d00ac0cbfb491116",
   "metadata": {
    "collapsed": false
   },
   "outputs": [],
   "source": [
    "# delete record\n",
    "taskingai.retrieval.delete_record(\n",
    "    collection_id=collection.collection_id,\n",
    "    record_id=record.record_id,\n",
    ")\n",
    "print(f\"deleted record {record.record_id} from collection {collection.collection_id}\\n\")"
   ]
  },
  {
   "cell_type": "markdown",
   "id": "b0e4c12fb7509fea",
   "metadata": {
    "collapsed": false
   },
   "source": [
    "## Chunk Object"
   ]
  },
  {
   "cell_type": "code",
   "execution_count": null,
   "id": "a395337f136500fc",
   "metadata": {
    "collapsed": false
   },
   "outputs": [],
   "source": [
    "# create a new text record\n",
    "chunk: Chunk = taskingai.retrieval.create_chunk(\n",
    "    collection_id=collection.collection_id,\n",
    "    content=\"The dog is a domesticated descendant of the wolf. Also called the domestic dog, it is derived from extinct gray wolves, and the gray wolf is the dog's closest living relative. The dog was the first species to be domesticated by humans.\",\n",
    ")\n",
    "print(f\"created chunk: {chunk.chunk_id} for collection: {collection.collection_id}\\n\")"
   ]
  },
  {
   "cell_type": "code",
   "execution_count": null,
   "id": "309e1771251bb079",
   "metadata": {
    "collapsed": false
   },
   "outputs": [],
   "source": [
    "# update chunk metadata\n",
    "chunk = taskingai.retrieval.update_chunk(\n",
    "    collection_id=collection.collection_id,\n",
    "    chunk_id=chunk.chunk_id,\n",
    "    metadata={\"k\": \"v\"},\n",
    ")\n",
    "print(f\"updated chunk: {chunk}\")"
   ]
  },
  {
   "cell_type": "code",
   "execution_count": null,
   "id": "a9d68db12329b558",
   "metadata": {
    "collapsed": false
   },
   "outputs": [],
   "source": [
    "# update chunk content\n",
    "chunk = taskingai.retrieval.update_chunk(\n",
    "    collection_id=collection.collection_id,\n",
    "    chunk_id=chunk.chunk_id,\n",
    "    content=\"New content\",\n",
    ")\n",
    "print(f\"updated chunk: {chunk}\")"
   ]
  },
  {
   "cell_type": "code",
   "execution_count": null,
   "id": "d3899097cd6d0cf2",
   "metadata": {
    "collapsed": false
   },
   "outputs": [],
   "source": [
    "# get chunk\n",
    "chunk = taskingai.retrieval.get_chunk(\n",
    "    collection_id=collection.collection_id,\n",
    "    chunk_id=chunk.chunk_id\n",
    ")\n",
    "print(f\"got chunk: {chunk}\\n\")"
   ]
  },
  {
   "cell_type": "code",
   "execution_count": null,
   "id": "27e643ad8e8636ed",
   "metadata": {
    "collapsed": false
   },
   "outputs": [],
   "source": [
    "# delete chunk\n",
    "taskingai.retrieval.delete_chunk(\n",
    "    collection_id=collection.collection_id,\n",
    "    chunk_id=chunk.chunk_id,\n",
    ")\n",
    "print(f\"deleted chunk {chunk.chunk_id} from collection {collection.collection_id}\\n\")"
   ]
  },
  {
   "cell_type": "code",
   "execution_count": null,
   "id": "a74dd7615ec28528",
   "metadata": {
    "collapsed": false
   },
   "outputs": [],
   "source": [
    "# create a new text record and a new chunk\n",
    "taskingai.retrieval.create_record(\n",
    "    collection_id=collection.collection_id,\n",
    "    content=\"Machine learning is a subfield of artificial intelligence (AI) that involves the development of algorithms that allow computers to learn from and make decisions or predictions based on data. The term \\\"machine learning\\\" was coined by Arthur Samuel in 1959. In other words, machine learning enables a system to automatically learn and improve from experience without being explicitly programmed. This is achieved by feeding the system massive amounts of data, which it uses to learn patterns and make inferences. There are three main types of machine learning: 1. Supervised Learning: This is where the model is given labeled training data and the goal of learning is to generalize from the training data to unseen situations in a principled way. 2. Unsupervised Learning: This involves training on a dataset without explicit labels. The goal might be to discover inherent groupings or patterns within the data. 3. Reinforcement Learning: In this type, an agent learns to perform actions based on reward/penalty feedback to achieve a goal. It's commonly used in robotics, gaming, and navigation. Deep learning, a subset of machine learning, uses neural networks with many layers (\\\"deep\\\" structures) and has been responsible for many recent breakthroughs in AI, including speech recognition, image recognition, and natural language processing. It's important to note that machine learning is a rapidly developing field, with new techniques and applications emerging regularly.\",\n",
    "    text_splitter=TokenTextSplitter(chunk_size=200, chunk_overlap=20)\n",
    ")\n",
    "\n",
    "taskingai.retrieval.create_chunk(\n",
    "    collection_id=collection.collection_id,\n",
    "    content=\"The dog is a domesticated descendant of the wolf. Also called the domestic dog, it is derived from extinct gray wolves, and the gray wolf is the dog's closest living relative. The dog was the first species to be domesticated by humans.\",\n",
    ")"
   ]
  },
  {
   "cell_type": "code",
   "execution_count": null,
   "id": "55e9645ac41f8ca",
   "metadata": {
    "collapsed": false
   },
   "outputs": [],
   "source": [
    "# list chunks\n",
    "chunks = taskingai.retrieval.list_chunks(collection_id=collection.collection_id)\n",
    "for chunk in chunks:\n",
    "    print(chunk)\n",
    "    print(\"-\" * 50)"
   ]
  },
  {
   "cell_type": "code",
   "execution_count": null,
   "id": "b97aaa156f586e34",
   "metadata": {
    "collapsed": false
   },
   "outputs": [],
   "source": [
    "# delete collection\n",
    "taskingai.retrieval.delete_collection(collection_id=collection.collection_id)"
   ]
  }
 ],
 "metadata": {
  "kernelspec": {
   "display_name": "Python 3",
   "language": "python",
   "name": "python3"
  },
  "language_info": {
   "codemirror_mode": {
    "name": "ipython",
    "version": 3
   },
   "file_extension": ".py",
   "mimetype": "text/x-python",
   "name": "python",
   "nbconvert_exporter": "python",
   "pygments_lexer": "ipython3",
   "version": "3.10.14"
  }
 },
 "nbformat": 4,
 "nbformat_minor": 5
}
