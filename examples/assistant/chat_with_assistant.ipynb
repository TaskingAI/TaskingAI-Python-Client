{
 "cells": [
  {
   "cell_type": "code",
   "execution_count": null,
   "id": "initial_id",
   "metadata": {
    "collapsed": true
   },
   "outputs": [],
   "source": [
    "import time\n",
    "import taskingai\n",
    "# Load TaskingAI API Key from environment variable"
   ]
  },
  {
   "cell_type": "markdown",
   "id": "4ca20b4a868dedd8",
   "metadata": {
    "collapsed": false
   },
   "source": [
    "# TaskingAI: Chat with Assistant Example\n",
    "\n",
    "In this example, we will first create an assistant who knows the meaning of various numbers and will explain it in certain language.\n",
    "Then we will start a chat with the assistant."
   ]
  },
  {
   "cell_type": "markdown",
   "id": "5e19ac923d84e898",
   "metadata": {
    "collapsed": false
   },
   "source": [
    "##  Create Assistant"
   ]
  },
  {
   "cell_type": "code",
   "execution_count": null,
   "id": "3b2fda39ba58c5e9",
   "metadata": {
    "collapsed": false
   },
   "outputs": [],
   "source": [
    "from taskingai.tool import Action, ActionAuthentication, ActionAuthenticationType\n",
    "from typing import List\n",
    "\n",
    "# create an assistant action\n",
    "NUMBERS_API_SCHEMA = {\n",
    "        \"openapi\": \"3.0.0\",\n",
    "        \"info\": {\n",
    "            \"title\": \"Numbers API\",\n",
    "            \"version\": \"1.0.0\",\n",
    "            \"description\": \"API for fetching interesting number facts\"\n",
    "        },\n",
    "        \"servers\": [\n",
    "            {\n",
    "            \"url\": \"http://numbersapi.com\"\n",
    "            }\n",
    "        ],\n",
    "        \"paths\": {\n",
    "            \"/{number}\": {\n",
    "            \"get\": {\n",
    "                \"description\": \"Get a fact about a number\",\n",
    "                \"operationId\": \"getNumberFact\",\n",
    "                \"parameters\": [\n",
    "                {\n",
    "                    \"name\": \"number\",\n",
    "                    \"in\": \"path\",\n",
    "                    \"required\": True,\n",
    "                    \"description\": \"The number to get the fact for\",\n",
    "                    \"schema\": {\n",
    "                    \"type\": \"integer\"\n",
    "                    }\n",
    "                }\n",
    "                ],\n",
    "                \"responses\": {\n",
    "                \"200\": {\n",
    "                    \"description\": \"A fact about the number\",\n",
    "                    \"content\": {\n",
    "                    \"text/plain\": {\n",
    "                        \"schema\": {\n",
    "                        \"type\": \"string\"\n",
    "                        }\n",
    "                    }\n",
    "                    }\n",
    "                }\n",
    "                }\n",
    "            }\n",
    "        }\n",
    "    }\n",
    "}\n",
    "actions: List[Action] = taskingai.tool.bulk_create_actions(\n",
    "    openapi_schema=NUMBERS_API_SCHEMA,\n",
    "    authentication=ActionAuthentication(\n",
    "        type=ActionAuthenticationType.NONE,\n",
    "    )\n",
    ")\n",
    "action = actions[0]\n",
    "print(f\"created action: {action}\\n\")"
   ]
  },
  {
   "cell_type": "code",
   "execution_count": null,
   "id": "3b3df0f232021283",
   "metadata": {
    "collapsed": false
   },
   "outputs": [],
   "source": [
    "from taskingai.assistant import Assistant, Chat, ToolRef, ToolType\n",
    "from taskingai.assistant.memory import AssistantMessageWindowMemory\n",
    "\n",
    "# choose an available chat_completion model from your project\n",
    "model_id = \"YOUR_CHAT_COMPLETION_MODEL_ID\"\n",
    "\n",
    "assistant: Assistant = taskingai.assistant.create_assistant(\n",
    "    model_id=model_id,\n",
    "    name=\"My Assistant\",\n",
    "    description=\"A assistant who knows the meaning of various numbers.\",\n",
    "    memory=AssistantMessageWindowMemory(\n",
    "        max_messages=20,\n",
    "        max_tokens=1000\n",
    "    ),\n",
    "    system_prompt_template=[\n",
    "        \"You know the meaning of various numbers.\",\n",
    "        \"No matter what the user's language is, you will use the {{langugae}} to explain.\"\n",
    "    ],\n",
    "    tools=[\n",
    "        ToolRef(\n",
    "            type=ToolType.ACTION,\n",
    "            id=action.action_id,\n",
    "        )\n",
    "    ],\n",
    "    retrievals=[],\n",
    "    metadata={\"k\": \"v\"},\n",
    ")\n",
    "print(f\"created assistant: {assistant}\\n\")"
   ]
  },
  {
   "cell_type": "markdown",
   "id": "8e7c1b9461f0a344",
   "metadata": {
    "collapsed": false
   },
   "source": [
    "## Start a Chat "
   ]
  },
  {
   "cell_type": "code",
   "execution_count": null,
   "id": "f1e2f0b2af8b1d8d",
   "metadata": {
    "collapsed": false
   },
   "outputs": [],
   "source": [
    "chat: Chat = taskingai.assistant.create_chat(\n",
    "    assistant_id=assistant.assistant_id,\n",
    ")\n",
    "print(f\"created chat: {chat.chat_id}\\n\")"
   ]
  },
  {
   "cell_type": "code",
   "execution_count": null,
   "id": "b26e30b79b71697a",
   "metadata": {
    "collapsed": false
   },
   "outputs": [],
   "source": [
    "from taskingai.assistant import Message, MessageChunk\n",
    "user_input = input(\"User Input: \")\n",
    "while user_input.strip() and user_input != \"q\":\n",
    "    # create user message\n",
    "    taskingai.assistant.create_message(\n",
    "        assistant_id=assistant.assistant_id,\n",
    "        chat_id=chat.chat_id,\n",
    "        text=user_input,\n",
    "    )\n",
    "    print(f\"User: {user_input}\")\n",
    "\n",
    "    # generate assistant response\n",
    "    assistant_message: Message = taskingai.assistant.generate_message(\n",
    "        assistant_id=assistant.assistant_id,\n",
    "        chat_id=chat.chat_id,\n",
    "        system_prompt_variables={\n",
    "            \"language\": \"English\"\n",
    "        }\n",
    "    )\n",
    "    print(f\"Assistant: {assistant_message.content.text}\")\n",
    "    time.sleep(2)\n",
    "    # quit by input 'q\n",
    "    user_input = input(\"User: \")"
   ]
  },
  {
   "cell_type": "code",
   "execution_count": null,
   "id": "c7d73e0b138e3eba",
   "metadata": {
    "collapsed": false
   },
   "outputs": [],
   "source": [
    "user_input = input(\"User Input: \")\n",
    "while user_input.strip() and user_input != \"q\":\n",
    "    # create user message\n",
    "    user_message = taskingai.assistant.create_message(\n",
    "        assistant_id=assistant.assistant_id,\n",
    "        chat_id=chat.chat_id,\n",
    "        text=user_input,\n",
    "    )\n",
    "    print(f\"User: {user_input} ({user_message.message_id})\")\n",
    "\n",
    "    # generate assistant response\n",
    "    assistant_message_response = taskingai.assistant.generate_message(\n",
    "        assistant_id=assistant.assistant_id,\n",
    "        chat_id=chat.chat_id,\n",
    "        system_prompt_variables={\n",
    "            \"language\": \"English\"\n",
    "        },\n",
    "        stream=True,\n",
    "    )\n",
    "\n",
    "    print(f\"Assistant:\", end=\" \", flush=True)\n",
    "    for item in assistant_message_response:\n",
    "        if isinstance(item, MessageChunk):\n",
    "            print(item.delta, end=\"\", flush=True)\n",
    "        elif isinstance(item, Message):\n",
    "            print(f\" ({item.message_id})\")\n",
    "\n",
    "    time.sleep(2)\n",
    "    # quit by input 'q\n",
    "    user_input = input(\"User: \")"
   ]
  },
  {
   "cell_type": "code",
   "execution_count": null,
   "id": "e94e3adb0d15373b",
   "metadata": {
    "collapsed": false
   },
   "outputs": [],
   "source": [
    "# list messages\n",
    "messages = taskingai.assistant.list_messages(\n",
    "    assistant_id=assistant.assistant_id,\n",
    "    chat_id=chat.chat_id,\n",
    "    order=\"asc\"\n",
    ")\n",
    "for message in messages:\n",
    "    print(f\"{message.role}: {message.content.text}\")"
   ]
  },
  {
   "cell_type": "code",
   "execution_count": null,
   "id": "ed39836bbfdc7a4e",
   "metadata": {
    "collapsed": false
   },
   "outputs": [],
   "source": [
    "# delete assistant\n",
    "taskingai.assistant.delete_assistant(\n",
    "    assistant_id=assistant.assistant_id,\n",
    ")"
   ]
  },
  {
   "cell_type": "code",
   "execution_count": null,
   "id": "3a67261c",
   "metadata": {},
   "outputs": [],
   "source": [
    "# clean chat context\n",
    "taskingai.assistant.clean_chat_context(\n",
    "    assistant_id=\"YOUR_ASSISTANT_ID\",\n",
    "    chat_id=\"YOUR_CHAT_ID\",\n",
    ")"
   ]
  }
 ],
 "metadata": {
  "kernelspec": {
   "display_name": "Python 3",
   "language": "python",
   "name": "python3"
  },
  "language_info": {
   "codemirror_mode": {
    "name": "ipython",
    "version": 2
   },
   "file_extension": ".py",
   "mimetype": "text/x-python",
   "name": "python",
   "nbconvert_exporter": "python",
   "pygments_lexer": "ipython2",
   "version": "3.10.14"
  }
 },
 "nbformat": 4,
 "nbformat_minor": 5
}
