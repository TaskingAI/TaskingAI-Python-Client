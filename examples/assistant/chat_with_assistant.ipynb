{
 "cells": [
  {
   "cell_type": "code",
   "execution_count": 11,
   "id": "initial_id",
   "metadata": {
    "collapsed": true,
    "ExecuteTime": {
     "end_time": "2023-11-28T08:47:28.230279Z",
     "start_time": "2023-11-28T08:47:28.205410Z"
    }
   },
   "outputs": [],
   "source": [
    "import time\n",
    "import taskingai\n",
    "# Load TaskingAI API Key fron environment variable"
   ]
  },
  {
   "cell_type": "markdown",
   "source": [
    "# TaskingAI: Chat with Assistant Example\n",
    "\n",
    "In this example, we will first create an assistant who knows the meaning of various numbers and will explain it in certain language.\n",
    "Then we will start a chat with the assistant."
   ],
   "metadata": {
    "collapsed": false
   },
   "id": "4ca20b4a868dedd8"
  },
  {
   "cell_type": "markdown",
   "source": [
    "##  Create Assistant"
   ],
   "metadata": {
    "collapsed": false
   },
   "id": "5e19ac923d84e898"
  },
  {
   "cell_type": "code",
   "execution_count": 2,
   "outputs": [
    {
     "name": "stdout",
     "output_type": "stream",
     "text": [
      "created action: {'action_id': 'bFBd2uQJa2wp8ac6kEDLE4yt',\n",
      " 'authentication': {'content': None, 'secret': None, 'type': 'none'},\n",
      " 'created_timestamp': 1701160841935,\n",
      " 'object': 'Action',\n",
      " 'schema': {'components': {},\n",
      "            'info': {'description': 'API for fetching interesting number facts',\n",
      "                     'title': 'Numbers API',\n",
      "                     'version': '1.0.0'},\n",
      "            'openapi': '3.0.0',\n",
      "            'paths': {'/{number}': {'get': {'parameters': [{'description': 'The '\n",
      "                                                                           'number '\n",
      "                                                                           'to '\n",
      "                                                                           'get '\n",
      "                                                                           'the '\n",
      "                                                                           'fact '\n",
      "                                                                           'for',\n",
      "                                                            'in': 'path',\n",
      "                                                            'name': 'number',\n",
      "                                                            'required': True,\n",
      "                                                            'schema': {'type': 'integer'}}],\n",
      "                                            'responses': {'200': {'content': {'text/plain': {'schema': {'type': 'string'}}},\n",
      "                                                                  'description': 'A '\n",
      "                                                                                 'fact '\n",
      "                                                                                 'about '\n",
      "                                                                                 'the '\n",
      "                                                                                 'number'}},\n",
      "                                            'summary': 'Get fact about a '\n",
      "                                                       'number'}}},\n",
      "            'security': [],\n",
      "            'servers': [{'url': 'http://numbersapi.com'}]}}\n"
     ]
    }
   ],
   "source": [
    "from taskingai.tool import Action, ActionAuthentication, ActionAuthenticationType\n",
    "from typing import List\n",
    "\n",
    "# create an assistant action\n",
    "NUMBERS_API_SCHEMA = {\n",
    "        \"openapi\": \"3.0.0\",\n",
    "        \"info\": {\n",
    "            \"title\": \"Numbers API\",\n",
    "            \"version\": \"1.0.0\",\n",
    "            \"description\": \"API for fetching interesting number facts\"\n",
    "        },\n",
    "        \"servers\": [\n",
    "            {\n",
    "            \"url\": \"http://numbersapi.com\"\n",
    "            }\n",
    "        ],\n",
    "        \"paths\": {\n",
    "            \"/{number}\": {\n",
    "            \"get\": {\n",
    "                \"summary\": \"Get fact about a number\",\n",
    "                \"parameters\": [\n",
    "                {\n",
    "                    \"name\": \"number\",\n",
    "                    \"in\": \"path\",\n",
    "                    \"required\": True,\n",
    "                    \"description\": \"The number to get the fact for\",\n",
    "                    \"schema\": {\n",
    "                    \"type\": \"integer\"\n",
    "                    }\n",
    "                }\n",
    "                ],\n",
    "                \"responses\": {\n",
    "                \"200\": {\n",
    "                    \"description\": \"A fact about the number\",\n",
    "                    \"content\": {\n",
    "                    \"text/plain\": {\n",
    "                        \"schema\": {\n",
    "                        \"type\": \"string\"\n",
    "                        }\n",
    "                    }\n",
    "                    }\n",
    "                }\n",
    "                }\n",
    "            }\n",
    "        }\n",
    "    }\n",
    "}\n",
    "actions: List[Action] = taskingai.tool.bulk_create_actions(\n",
    "    schema=NUMBERS_API_SCHEMA,\n",
    "    authentication=ActionAuthentication(\n",
    "        type=ActionAuthenticationType.NONE,\n",
    "    )\n",
    ")\n",
    "action = actions[0]\n",
    "print(f\"created action: {action}\\n\")"
   ],
   "metadata": {
    "collapsed": false,
    "ExecuteTime": {
     "end_time": "2023-11-28T08:40:42.169559Z",
     "start_time": "2023-11-28T08:40:40.544864Z"
    }
   },
   "id": "3b2fda39ba58c5e9"
  },
  {
   "cell_type": "code",
   "execution_count": 3,
   "outputs": [
    {
     "name": "stdout",
     "output_type": "stream",
     "text": [
      "created assistant: {'assistant_id': 'X5lMxXkQZahUAzsdIUCEidCH',\n",
      " 'created_timestamp': 1701160845645,\n",
      " 'description': 'A assistant who knows the meaning of various numbers.',\n",
      " 'metadata': {'foo': 'bar'},\n",
      " 'model_id': 'Gk1145Bl',\n",
      " 'name': 'My Assistant',\n",
      " 'object': 'Assistant',\n",
      " 'retrievals': [],\n",
      " 'system_prompt_template': ['You know the meaning of various numbers.',\n",
      "                            \"No matter what the user's language is, you will \"\n",
      "                            'use the {{langugae}} to explain.'],\n",
      " 'tools': [{'id': 'bFBd2uQJa2wp8ac6kEDLE4yt', 'type': 'action'}]}\n"
     ]
    }
   ],
   "source": [
    "from taskingai.assistant import Assistant, Chat, AssistantTool, AssistantToolType\n",
    "\n",
    "# choose an available chat_completion model from your project\n",
    "model_id = \"Gk1145Bl\"\n",
    "\n",
    "assistant: Assistant = taskingai.assistant.create_assistant(\n",
    "    model_id=model_id,\n",
    "    name=\"My Assistant\",\n",
    "    description=\"A assistant who knows the meaning of various numbers.\",\n",
    "    system_prompt_template=[\n",
    "        \"You know the meaning of various numbers.\",\n",
    "        \"No matter what the user's language is, you will use the {{langugae}} to explain.\"\n",
    "    ],\n",
    "    tools=[AssistantTool(\n",
    "        type=AssistantToolType.action,\n",
    "        id=action.action_id,\n",
    "    )],\n",
    "    retrievals=[],\n",
    "    metadata={\"foo\": \"bar\"},\n",
    ")\n",
    "print(f\"created assistant: {assistant}\\n\")"
   ],
   "metadata": {
    "collapsed": false,
    "ExecuteTime": {
     "end_time": "2023-11-28T08:40:45.894810Z",
     "start_time": "2023-11-28T08:40:43.092053Z"
    }
   },
   "id": "3b3df0f232021283"
  },
  {
   "cell_type": "markdown",
   "source": [
    "## Start a Chat "
   ],
   "metadata": {
    "collapsed": false
   },
   "id": "8e7c1b9461f0a344"
  },
  {
   "cell_type": "code",
   "execution_count": 14,
   "outputs": [
    {
     "name": "stdout",
     "output_type": "stream",
     "text": [
      "created chat: SdELbhZeozXgPdr4fXSE7pjG\n"
     ]
    }
   ],
   "source": [
    "chat: Chat = taskingai.assistant.create_chat(\n",
    "    assistant_id=assistant.assistant_id,\n",
    ")\n",
    "print(f\"created chat: {chat.chat_id}\\n\")"
   ],
   "metadata": {
    "collapsed": false,
    "ExecuteTime": {
     "end_time": "2023-11-28T08:49:13.796245Z",
     "start_time": "2023-11-28T08:49:11.579401Z"
    }
   },
   "id": "f1e2f0b2af8b1d8d"
  },
  {
   "cell_type": "code",
   "execution_count": 15,
   "outputs": [
    {
     "name": "stdout",
     "output_type": "stream",
     "text": [
      "User: Hello\n",
      "Assistant: Hi there! How can I assist you today?\n",
      "User: What is the meaning of 120\n",
      "Assistant: The number 120 represents the drop in meters of the world's tallest freefall ride, The Giant Drop, located in Australia.\n",
      "User: One more meaning\n",
      "Assistant: Another meaning of the number 120 is that it is a file medium format developed by Kodak.\n",
      "User: thanks\n",
      "Assistant: You're welcome! If you have any more questions, feel free to ask.\n"
     ]
    }
   ],
   "source": [
    "from taskingai.assistant import Message\n",
    "\n",
    "user_input = input(\"User Input: \")\n",
    "while user_input != \"q\":\n",
    "    # create user message\n",
    "    taskingai.assistant.create_user_message(\n",
    "        assistant_id=assistant.assistant_id,\n",
    "        chat_id=chat.chat_id,\n",
    "        text=user_input,\n",
    "    )\n",
    "    print(f\"User: {user_input}\")\n",
    "    \n",
    "    # generate assistant response\n",
    "    assistant_message: Message = taskingai.assistant.generate_assistant_message(\n",
    "        assistant_id=assistant.assistant_id,\n",
    "        chat_id=chat.chat_id,\n",
    "        system_prompt_variables={\n",
    "            \"language\": \"Spanish\"\n",
    "        }\n",
    "    )\n",
    "    print(f\"Assistant: {assistant_message.content['text']}\")\n",
    "    time.sleep(2)\n",
    "    user_input = input(\"User: \")"
   ],
   "metadata": {
    "collapsed": false,
    "ExecuteTime": {
     "end_time": "2023-11-28T08:50:07.890084Z",
     "start_time": "2023-11-28T08:49:14.898284Z"
    }
   },
   "id": "b26e30b79b71697a"
  },
  {
   "cell_type": "code",
   "execution_count": 18,
   "outputs": [
    {
     "name": "stdout",
     "output_type": "stream",
     "text": [
      "assistant: You're welcome! If you have any more questions, feel free to ask.\n",
      "user: thanks\n",
      "assistant: Another meaning of the number 120 is that it is a file medium format developed by Kodak.\n",
      "user: One more meaning\n",
      "assistant: The number 120 represents the drop in meters of the world's tallest freefall ride, The Giant Drop, located in Australia.\n",
      "user: What is the meaning of 120\n",
      "assistant: Hi there! How can I assist you today?\n",
      "user: Hello\n"
     ]
    }
   ],
   "source": [
    "# list messages\n",
    "messages = taskingai.assistant.list_messages(\n",
    "    assistant_id=assistant.assistant_id,\n",
    "    chat_id=chat.chat_id,\n",
    ")\n",
    "for message in messages:\n",
    "    print(f\"{message.role}: {message.content['text']}\")"
   ],
   "metadata": {
    "collapsed": false,
    "ExecuteTime": {
     "end_time": "2023-11-28T08:50:44.024014Z",
     "start_time": "2023-11-28T08:50:41.483107Z"
    }
   },
   "id": "34bae46ba56752bb"
  },
  {
   "cell_type": "code",
   "execution_count": null,
   "outputs": [],
   "source": [],
   "metadata": {
    "collapsed": false
   },
   "id": "ed39836bbfdc7a4e"
  }
 ],
 "metadata": {
  "kernelspec": {
   "display_name": "Python 3",
   "language": "python",
   "name": "python3"
  },
  "language_info": {
   "codemirror_mode": {
    "name": "ipython",
    "version": 2
   },
   "file_extension": ".py",
   "mimetype": "text/x-python",
   "name": "python",
   "nbconvert_exporter": "python",
   "pygments_lexer": "ipython2",
   "version": "2.7.6"
  }
 },
 "nbformat": 4,
 "nbformat_minor": 5
}
