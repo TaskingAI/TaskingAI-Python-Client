{
 "cells": [
  {
   "cell_type": "code",
   "execution_count": 1,
   "id": "initial_id",
   "metadata": {
    "collapsed": true,
    "ExecuteTime": {
     "end_time": "2023-11-30T11:56:53.238031Z",
     "start_time": "2023-11-30T11:56:53.081526Z"
    }
   },
   "outputs": [],
   "source": [
    "import time\n",
    "import taskingai\n",
    "# Load TaskingAI API Key fron environment variable"
   ]
  },
  {
   "cell_type": "markdown",
   "source": [
    "# TaskingAI: Chat with Assistant Example\n",
    "\n",
    "In this example, we will first create an assistant who knows the meaning of various numbers and will explain it in certain language.\n",
    "Then we will start a chat with the assistant."
   ],
   "metadata": {
    "collapsed": false
   },
   "id": "4ca20b4a868dedd8"
  },
  {
   "cell_type": "markdown",
   "source": [
    "##  Create Assistant"
   ],
   "metadata": {
    "collapsed": false
   },
   "id": "5e19ac923d84e898"
  },
  {
   "cell_type": "code",
   "execution_count": 2,
   "outputs": [
    {
     "name": "stdout",
     "output_type": "stream",
     "text": [
      "created action: object='Action' action_id='bFBd4I6YoHOiIgEnTpICAgC8' schema={'info': {'title': 'Numbers API', 'version': '1.0.0', 'description': 'API for fetching interesting number facts'}, 'paths': {'/{number}': {'get': {'summary': 'Get fact about a number', 'responses': {'200': {'content': {'text/plain': {'schema': {'type': 'string'}}}, 'description': 'A fact about the number'}}, 'parameters': [{'in': 'path', 'name': 'number', 'schema': {'type': 'integer'}, 'required': True, 'description': 'The number to get the fact for'}]}}}, 'openapi': '3.0.0', 'servers': [{'url': 'http://numbersapi.com'}], 'security': [], 'components': {}} authentication=ActionAuthentication(type=<ActionAuthenticationType.none: 'none'>, secret=None, content=None) created_timestamp=1701345415792\n"
     ]
    }
   ],
   "source": [
    "from taskingai.tool import Action, ActionAuthentication, ActionAuthenticationType\n",
    "from typing import List\n",
    "\n",
    "# create an assistant action\n",
    "NUMBERS_API_SCHEMA = {\n",
    "        \"openapi\": \"3.0.0\",\n",
    "        \"info\": {\n",
    "            \"title\": \"Numbers API\",\n",
    "            \"version\": \"1.0.0\",\n",
    "            \"description\": \"API for fetching interesting number facts\"\n",
    "        },\n",
    "        \"servers\": [\n",
    "            {\n",
    "            \"url\": \"http://numbersapi.com\"\n",
    "            }\n",
    "        ],\n",
    "        \"paths\": {\n",
    "            \"/{number}\": {\n",
    "            \"get\": {\n",
    "                \"summary\": \"Get fact about a number\",\n",
    "                \"parameters\": [\n",
    "                {\n",
    "                    \"name\": \"number\",\n",
    "                    \"in\": \"path\",\n",
    "                    \"required\": True,\n",
    "                    \"description\": \"The number to get the fact for\",\n",
    "                    \"schema\": {\n",
    "                    \"type\": \"integer\"\n",
    "                    }\n",
    "                }\n",
    "                ],\n",
    "                \"responses\": {\n",
    "                \"200\": {\n",
    "                    \"description\": \"A fact about the number\",\n",
    "                    \"content\": {\n",
    "                    \"text/plain\": {\n",
    "                        \"schema\": {\n",
    "                        \"type\": \"string\"\n",
    "                        }\n",
    "                    }\n",
    "                    }\n",
    "                }\n",
    "                }\n",
    "            }\n",
    "        }\n",
    "    }\n",
    "}\n",
    "actions: List[Action] = taskingai.tool.bulk_create_actions(\n",
    "    schema=NUMBERS_API_SCHEMA,\n",
    "    authentication=ActionAuthentication(\n",
    "        type=ActionAuthenticationType.none,\n",
    "    )\n",
    ")\n",
    "action = actions[0]\n",
    "print(f\"created action: {action}\\n\")"
   ],
   "metadata": {
    "collapsed": false,
    "ExecuteTime": {
     "end_time": "2023-11-30T11:56:55.907860Z",
     "start_time": "2023-11-30T11:56:54.639041Z"
    }
   },
   "id": "3b2fda39ba58c5e9"
  },
  {
   "cell_type": "code",
   "execution_count": 3,
   "outputs": [
    {
     "name": "stdout",
     "output_type": "stream",
     "text": [
      "created assistant: object='Assistant' assistant_id='X5lMUSFLWzESDvTmy0SwOx0v' model_id='Gk1145Bl' name='My Assistant' description='A assistant who knows the meaning of various numbers.' system_prompt_template=['You know the meaning of various numbers.', \"No matter what the user's language is, you will use the {{langugae}} to explain.\"] tools=[AssistantTool(type=<AssistantToolType.action: 'action'>, id='bFBd4I6YoHOiIgEnTpICAgC8')] retrievals=[] metadata={'foo': 'bar'} created_timestamp=1701345417694\n"
     ]
    }
   ],
   "source": [
    "from taskingai.assistant import Assistant, Chat, AssistantTool, AssistantToolType\n",
    "\n",
    "# choose an available chat_completion model from your project\n",
    "model_id = \"Gk1145Bl\"\n",
    "\n",
    "assistant: Assistant = taskingai.assistant.create_assistant(\n",
    "    model_id=model_id,\n",
    "    name=\"My Assistant\",\n",
    "    description=\"A assistant who knows the meaning of various numbers.\",\n",
    "    system_prompt_template=[\n",
    "        \"You know the meaning of various numbers.\",\n",
    "        \"No matter what the user's language is, you will use the {{langugae}} to explain.\"\n",
    "    ],\n",
    "    tools=[AssistantTool(\n",
    "        type=AssistantToolType.action,\n",
    "        id=action.action_id,\n",
    "    )],\n",
    "    retrievals=[],\n",
    "    metadata={\"foo\": \"bar\"},\n",
    ")\n",
    "print(f\"created assistant: {assistant}\\n\")"
   ],
   "metadata": {
    "collapsed": false,
    "ExecuteTime": {
     "end_time": "2023-11-30T11:56:57.786789Z",
     "start_time": "2023-11-30T11:56:56.560889Z"
    }
   },
   "id": "3b3df0f232021283"
  },
  {
   "cell_type": "markdown",
   "source": [
    "## Start a Chat "
   ],
   "metadata": {
    "collapsed": false
   },
   "id": "8e7c1b9461f0a344"
  },
  {
   "cell_type": "code",
   "execution_count": 4,
   "outputs": [
    {
     "name": "stdout",
     "output_type": "stream",
     "text": [
      "created chat: SdELqszTR3IXt51rBj0svkSq\n"
     ]
    }
   ],
   "source": [
    "chat: Chat = taskingai.assistant.create_chat(\n",
    "    assistant_id=assistant.assistant_id,\n",
    ")\n",
    "print(f\"created chat: {chat.chat_id}\\n\")"
   ],
   "metadata": {
    "collapsed": false,
    "ExecuteTime": {
     "end_time": "2023-11-30T11:56:59.106482Z",
     "start_time": "2023-11-30T11:56:58.723727Z"
    }
   },
   "id": "f1e2f0b2af8b1d8d"
  },
  {
   "cell_type": "code",
   "execution_count": 5,
   "outputs": [
    {
     "name": "stdout",
     "output_type": "stream",
     "text": [
      "User: hi\n",
      "Assistant: Hello! How can I assist you today?\n",
      "User: what is the meaning of 12\n",
      "Assistant: The number 12 is often associated with various meanings depending on the context. Here are some interpretations:\n",
      "\n",
      "1. Numerology: In numerology, 12 is considered a powerful number associated with completion, harmony, and a sense of wholeness. It is often seen as a symbol of perfection, balance, and divine guidance.\n",
      "\n",
      "2. Time: There are 12 months in a year, and this is based on the approximate time it takes for the moon to complete its cycle around the Earth. Additionally, there are 12 hours on a clock face, both in the morning and in the evening.\n",
      "\n",
      "3. Mathematics: 12 is divisible by 1, 2, 3, 4, 6, and itself, making it a highly composite number. It also has a prime factorization of 2^2 × 3, which is significant in number theory.\n",
      "\n",
      "4. Religion and Mythology: In many religious beliefs and mythologies, there are groups or sets of 12. For instance, there are 12 disciples of Jesus in Christianity, 12 signs of the zodiac in astrology, and 12 Olympian gods in Greek mythology.\n",
      "\n",
      "5. Measurement: The duodecimal numerical system, based on the number 12, was historically used in some cultures for counting and measurements. This system is still present in modern times in certain contexts, such as inches in a foot (12 inches) and the number of members in a jury (often 12).\n",
      "\n",
      "These are just a few examples of the meaning associated with the number 12. The interpretation can vary depending on the cultural, historical, or personal perspectives.\n",
      "User: thanks\n",
      "Assistant: You're welcome! If you have any more questions, feel free to ask.\n"
     ]
    }
   ],
   "source": [
    "from taskingai.assistant import Message, MessageChunk\n",
    "\n",
    "user_input = input(\"User Input: \")\n",
    "while user_input != \"q\":\n",
    "    # create user message\n",
    "    taskingai.assistant.create_user_message(\n",
    "        assistant_id=assistant.assistant_id,\n",
    "        chat_id=chat.chat_id,\n",
    "        text=user_input,\n",
    "    )\n",
    "    print(f\"User: {user_input}\")\n",
    "    \n",
    "    # generate assistant response\n",
    "    assistant_message: Message = taskingai.assistant.generate_assistant_message(\n",
    "        assistant_id=assistant.assistant_id,\n",
    "        chat_id=chat.chat_id,\n",
    "        system_prompt_variables={\n",
    "            \"language\": \"English\"\n",
    "        }\n",
    "    )\n",
    "    print(f\"Assistant: {assistant_message.content.text}\")\n",
    "    time.sleep(2)\n",
    "    user_input = input(\"User: \")"
   ],
   "metadata": {
    "collapsed": false,
    "ExecuteTime": {
     "end_time": "2023-11-30T11:57:37.676466Z",
     "start_time": "2023-11-30T11:57:00.619700Z"
    }
   },
   "id": "b26e30b79b71697a"
  },
  {
   "cell_type": "code",
   "execution_count": 6,
   "outputs": [
    {
     "name": "stdout",
     "output_type": "stream",
     "text": [
      "User: what about 127\n",
      "Assistant: The number 127 is the atomic number of Unbiseptium, an element that has not yet been discovered. In the periodic table of elements, each unique element has an atomic number that corresponds to the number of protons in its nucleus. However, as of now, no element with 127 protons has been confirmed or named. Therefore, 127 represents a theoretical element that scientists have not yet observed or identified.\n",
      "message_id: Mah1zSgBZpDuLvpEnVhEmWZy\n",
      "User: bye\n",
      "Assistant: Goodbye! If you have any more questions in the future, feel free to ask. Have a great day!\n",
      "message_id: Mah1uIUcePTL7gvPjzl6JtpM\n"
     ]
    }
   ],
   "source": [
    "# response in stream\n",
    "\n",
    "user_input = input(\"User Input: \")\n",
    "while user_input != \"q\":\n",
    "    # create user message\n",
    "    taskingai.assistant.create_user_message(\n",
    "        assistant_id=assistant.assistant_id,\n",
    "        chat_id=chat.chat_id,\n",
    "        text=user_input,\n",
    "    )\n",
    "    print(f\"User: {user_input}\")\n",
    "    \n",
    "    # generate assistant response\n",
    "    assistant_message_response = taskingai.assistant.generate_assistant_message(\n",
    "        assistant_id=assistant.assistant_id,\n",
    "        chat_id=chat.chat_id,\n",
    "        system_prompt_variables={\n",
    "            \"language\": \"English\"\n",
    "        },\n",
    "        stream=True,\n",
    "    )\n",
    "    \n",
    "    print(f\"Assistant:\", end=\" \", flush=True)\n",
    "    for item in assistant_message_response:\n",
    "        \n",
    "        if isinstance(item, MessageChunk):\n",
    "            print(item.delta, end=\"\", flush=True)\n",
    "            \n",
    "        elif isinstance(item, Message):\n",
    "            print(f\"\\nmessage_id: {item.message_id}\")\n",
    "            \n",
    "            \n",
    "    time.sleep(2)\n",
    "    user_input = input(\"User: \")"
   ],
   "metadata": {
    "collapsed": false,
    "ExecuteTime": {
     "end_time": "2023-11-30T11:58:24.864156Z",
     "start_time": "2023-11-30T11:57:58.379023Z"
    }
   },
   "id": "c7d73e0b138e3eba"
  },
  {
   "cell_type": "code",
   "execution_count": 8,
   "outputs": [
    {
     "name": "stdout",
     "output_type": "stream",
     "text": [
      "assistant: Goodbye! If you have any more questions in the future, feel free to ask. Have a great day!\n",
      "----------------------------------------------------------------------------------------------------\n",
      "user: bye\n",
      "----------------------------------------------------------------------------------------------------\n",
      "assistant: The number 127 is the atomic number of Unbiseptium, an element that has not yet been discovered. In the periodic table of elements, each unique element has an atomic number that corresponds to the number of protons in its nucleus. However, as of now, no element with 127 protons has been confirmed or named. Therefore, 127 represents a theoretical element that scientists have not yet observed or identified.\n",
      "----------------------------------------------------------------------------------------------------\n",
      "user: what about 127\n",
      "----------------------------------------------------------------------------------------------------\n",
      "assistant: You're welcome! If you have any more questions, feel free to ask.\n",
      "----------------------------------------------------------------------------------------------------\n",
      "user: thanks\n",
      "----------------------------------------------------------------------------------------------------\n",
      "assistant: The number 12 is often associated with various meanings depending on the context. Here are some interpretations:\n",
      "\n",
      "1. Numerology: In numerology, 12 is considered a powerful number associated with completion, harmony, and a sense of wholeness. It is often seen as a symbol of perfection, balance, and divine guidance.\n",
      "\n",
      "2. Time: There are 12 months in a year, and this is based on the approximate time it takes for the moon to complete its cycle around the Earth. Additionally, there are 12 hours on a clock face, both in the morning and in the evening.\n",
      "\n",
      "3. Mathematics: 12 is divisible by 1, 2, 3, 4, 6, and itself, making it a highly composite number. It also has a prime factorization of 2^2 × 3, which is significant in number theory.\n",
      "\n",
      "4. Religion and Mythology: In many religious beliefs and mythologies, there are groups or sets of 12. For instance, there are 12 disciples of Jesus in Christianity, 12 signs of the zodiac in astrology, and 12 Olympian gods in Greek mythology.\n",
      "\n",
      "5. Measurement: The duodecimal numerical system, based on the number 12, was historically used in some cultures for counting and measurements. This system is still present in modern times in certain contexts, such as inches in a foot (12 inches) and the number of members in a jury (often 12).\n",
      "\n",
      "These are just a few examples of the meaning associated with the number 12. The interpretation can vary depending on the cultural, historical, or personal perspectives.\n",
      "----------------------------------------------------------------------------------------------------\n",
      "user: what is the meaning of 12\n",
      "----------------------------------------------------------------------------------------------------\n",
      "assistant: Hello! How can I assist you today?\n",
      "----------------------------------------------------------------------------------------------------\n",
      "user: hi\n",
      "----------------------------------------------------------------------------------------------------\n"
     ]
    }
   ],
   "source": [
    "# list messages\n",
    "messages = taskingai.assistant.list_messages(\n",
    "    assistant_id=assistant.assistant_id,\n",
    "    chat_id=chat.chat_id,\n",
    ")\n",
    "for message in messages:\n",
    "    print(f\"{message.role}: {message.content.text}\")\n",
    "    print(\"-\"*100)"
   ],
   "metadata": {
    "collapsed": false,
    "ExecuteTime": {
     "end_time": "2023-11-30T11:58:52.694600Z",
     "start_time": "2023-11-30T11:58:51.370902Z"
    }
   },
   "id": "34bae46ba56752bb"
  },
  {
   "cell_type": "code",
   "execution_count": 9,
   "outputs": [],
   "source": [
    "# delete assistant\n",
    "taskingai.assistant.delete_assistant(\n",
    "    assistant_id=assistant.assistant_id,\n",
    ")"
   ],
   "metadata": {
    "collapsed": false,
    "ExecuteTime": {
     "end_time": "2023-11-30T11:59:08.821200Z",
     "start_time": "2023-11-30T11:59:07.561480Z"
    }
   },
   "id": "ed39836bbfdc7a4e"
  },
  {
   "cell_type": "code",
   "execution_count": null,
   "outputs": [],
   "source": [],
   "metadata": {
    "collapsed": false
   },
   "id": "325965f154e14f42"
  }
 ],
 "metadata": {
  "kernelspec": {
   "display_name": "Python 3",
   "language": "python",
   "name": "python3"
  },
  "language_info": {
   "codemirror_mode": {
    "name": "ipython",
    "version": 2
   },
   "file_extension": ".py",
   "mimetype": "text/x-python",
   "name": "python",
   "nbconvert_exporter": "python",
   "pygments_lexer": "ipython2",
   "version": "2.7.6"
  }
 },
 "nbformat": 4,
 "nbformat_minor": 5
}
