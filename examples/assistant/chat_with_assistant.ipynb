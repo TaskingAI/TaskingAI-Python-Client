{
 "cells": [
  {
   "cell_type": "code",
   "execution_count": 1,
   "id": "initial_id",
   "metadata": {
    "collapsed": true,
    "ExecuteTime": {
     "end_time": "2023-11-30T12:09:18.938Z",
     "start_time": "2023-11-30T12:09:18.762167Z"
    }
   },
   "outputs": [],
   "source": [
    "import time\n",
    "import taskingai\n",
    "# Load TaskingAI API Key fron environment variable"
   ]
  },
  {
   "cell_type": "markdown",
   "source": [
    "# TaskingAI: Chat with Assistant Example\n",
    "\n",
    "In this example, we will first create an assistant who knows the meaning of various numbers and will explain it in certain language.\n",
    "Then we will start a chat with the assistant."
   ],
   "metadata": {
    "collapsed": false
   },
   "id": "4ca20b4a868dedd8"
  },
  {
   "cell_type": "markdown",
   "source": [
    "##  Create Assistant"
   ],
   "metadata": {
    "collapsed": false
   },
   "id": "5e19ac923d84e898"
  },
  {
   "cell_type": "code",
   "execution_count": 2,
   "outputs": [
    {
     "name": "stdout",
     "output_type": "stream",
     "text": [
      "created action: object='Action' action_id='bFBdHBaYSXzuiLjn4WsFQdKx' schema={'info': {'title': 'Numbers API', 'version': '1.0.0', 'description': 'API for fetching interesting number facts'}, 'paths': {'/{number}': {'get': {'summary': 'Get fact about a number', 'responses': {'200': {'content': {'text/plain': {'schema': {'type': 'string'}}}, 'description': 'A fact about the number'}}, 'parameters': [{'in': 'path', 'name': 'number', 'schema': {'type': 'integer'}, 'required': True, 'description': 'The number to get the fact for'}]}}}, 'openapi': '3.0.0', 'servers': [{'url': 'http://numbersapi.com'}], 'security': [], 'components': {}} authentication=ActionAuthentication(type=<ActionAuthenticationType.none: 'none'>, secret=None, content=None) created_timestamp=1701346163304\n"
     ]
    }
   ],
   "source": [
    "from taskingai.tool import Action, ActionAuthentication, ActionAuthenticationType\n",
    "from typing import List\n",
    "\n",
    "# create an assistant action\n",
    "NUMBERS_API_SCHEMA = {\n",
    "        \"openapi\": \"3.0.0\",\n",
    "        \"info\": {\n",
    "            \"title\": \"Numbers API\",\n",
    "            \"version\": \"1.0.0\",\n",
    "            \"description\": \"API for fetching interesting number facts\"\n",
    "        },\n",
    "        \"servers\": [\n",
    "            {\n",
    "            \"url\": \"http://numbersapi.com\"\n",
    "            }\n",
    "        ],\n",
    "        \"paths\": {\n",
    "            \"/{number}\": {\n",
    "            \"get\": {\n",
    "                \"summary\": \"Get fact about a number\",\n",
    "                \"parameters\": [\n",
    "                {\n",
    "                    \"name\": \"number\",\n",
    "                    \"in\": \"path\",\n",
    "                    \"required\": True,\n",
    "                    \"description\": \"The number to get the fact for\",\n",
    "                    \"schema\": {\n",
    "                    \"type\": \"integer\"\n",
    "                    }\n",
    "                }\n",
    "                ],\n",
    "                \"responses\": {\n",
    "                \"200\": {\n",
    "                    \"description\": \"A fact about the number\",\n",
    "                    \"content\": {\n",
    "                    \"text/plain\": {\n",
    "                        \"schema\": {\n",
    "                        \"type\": \"string\"\n",
    "                        }\n",
    "                    }\n",
    "                    }\n",
    "                }\n",
    "                }\n",
    "            }\n",
    "        }\n",
    "    }\n",
    "}\n",
    "actions: List[Action] = taskingai.tool.bulk_create_actions(\n",
    "    schema=NUMBERS_API_SCHEMA,\n",
    "    authentication=ActionAuthentication(\n",
    "        type=ActionAuthenticationType.none,\n",
    "    )\n",
    ")\n",
    "action = actions[0]\n",
    "print(f\"created action: {action}\\n\")"
   ],
   "metadata": {
    "collapsed": false,
    "ExecuteTime": {
     "end_time": "2023-11-30T12:09:23.498384Z",
     "start_time": "2023-11-30T12:09:21.928940Z"
    }
   },
   "id": "3b2fda39ba58c5e9"
  },
  {
   "cell_type": "code",
   "execution_count": 3,
   "outputs": [
    {
     "name": "stdout",
     "output_type": "stream",
     "text": [
      "created assistant: object='Assistant' assistant_id='X5lMf7ClPfuFxRLQqXiwukim' model_id='Gk1145Bl' name='My Assistant' description='A assistant who knows the meaning of various numbers.' system_prompt_template=['You know the meaning of various numbers.', \"No matter what the user's language is, you will use the {{langugae}} to explain.\"] tools=[AssistantTool(type=<AssistantToolType.action: 'action'>, id='bFBdHBaYSXzuiLjn4WsFQdKx')] retrievals=[] metadata={'foo': 'bar'} created_timestamp=1701346165503\n"
     ]
    }
   ],
   "source": [
    "from taskingai.assistant import Assistant, Chat, AssistantTool, AssistantToolType\n",
    "\n",
    "# choose an available chat_completion model from your project\n",
    "model_id = \"Gk1145Bl\"\n",
    "\n",
    "assistant: Assistant = taskingai.assistant.create_assistant(\n",
    "    model_id=model_id,\n",
    "    name=\"My Assistant\",\n",
    "    description=\"A assistant who knows the meaning of various numbers.\",\n",
    "    system_prompt_template=[\n",
    "        \"You know the meaning of various numbers.\",\n",
    "        \"No matter what the user's language is, you will use the {{langugae}} to explain.\"\n",
    "    ],\n",
    "    tools=[AssistantTool(\n",
    "        type=AssistantToolType.action,\n",
    "        id=action.action_id,\n",
    "    )],\n",
    "    retrievals=[],\n",
    "    metadata={\"foo\": \"bar\"},\n",
    ")\n",
    "print(f\"created assistant: {assistant}\\n\")"
   ],
   "metadata": {
    "collapsed": false,
    "ExecuteTime": {
     "end_time": "2023-11-30T12:09:25.600307Z",
     "start_time": "2023-11-30T12:09:24.021512Z"
    }
   },
   "id": "3b3df0f232021283"
  },
  {
   "cell_type": "markdown",
   "source": [
    "## Start a Chat "
   ],
   "metadata": {
    "collapsed": false
   },
   "id": "8e7c1b9461f0a344"
  },
  {
   "cell_type": "code",
   "execution_count": 4,
   "outputs": [
    {
     "name": "stdout",
     "output_type": "stream",
     "text": [
      "created chat: SdELoFCq7a8er2LphedC6ANK\n"
     ]
    }
   ],
   "source": [
    "chat: Chat = taskingai.assistant.create_chat(\n",
    "    assistant_id=assistant.assistant_id,\n",
    ")\n",
    "print(f\"created chat: {chat.chat_id}\\n\")"
   ],
   "metadata": {
    "collapsed": false,
    "ExecuteTime": {
     "end_time": "2023-11-30T12:09:26.676705Z",
     "start_time": "2023-11-30T12:09:26.256500Z"
    }
   },
   "id": "f1e2f0b2af8b1d8d"
  },
  {
   "cell_type": "code",
   "execution_count": 6,
   "outputs": [],
   "source": [
    "from taskingai.assistant import Message, MessageChunk\n",
    "user_input = input(\"User Input: \")\n",
    "while user_input != \"q\":\n",
    "    # create user message\n",
    "    taskingai.assistant.create_user_message(\n",
    "        assistant_id=assistant.assistant_id,\n",
    "        chat_id=chat.chat_id,\n",
    "        text=user_input,\n",
    "    )\n",
    "    print(f\"User: {user_input}\")\n",
    "    \n",
    "    # generate assistant response\n",
    "    assistant_message: Message = taskingai.assistant.generate_assistant_message(\n",
    "        assistant_id=assistant.assistant_id,\n",
    "        chat_id=chat.chat_id,\n",
    "        system_prompt_variables={\n",
    "            \"language\": \"English\"\n",
    "        }\n",
    "    )\n",
    "    print(f\"Assistant: {assistant_message.content.text}\")\n",
    "    time.sleep(2)\n",
    "    user_input = input(\"User: \")"
   ],
   "metadata": {
    "collapsed": false,
    "ExecuteTime": {
     "end_time": "2023-11-30T12:09:42.827896Z",
     "start_time": "2023-11-30T12:09:41.040732Z"
    }
   },
   "id": "b26e30b79b71697a"
  },
  {
   "cell_type": "code",
   "execution_count": 7,
   "outputs": [
    {
     "name": "stdout",
     "output_type": "stream",
     "text": [
      "User: what is the meaning of 127\n",
      "Assistant: {'object': 'MessageGenerationLog', 'type': 'tool_call', 'session_id': 'D9JshtlLZk4vluhm93bhsn9m', 'created_timestamp': 1701346187791, 'tool': {'tool_id': 'bFBdHBaYSXzuiLjn4WsFQdKx', 'type': 'action', 'name': 'get_by', 'input': '{\"number\": 127}', 'output': None}}\n"
     ]
    },
    {
     "ename": "ValidationError",
     "evalue": "1 validation error for MessageGenerationLog\nretrieval\n  Field required [type=missing, input_value={'object': 'MessageGenera... 127}', 'output': None}}, input_type=dict]\n    For further information visit https://errors.pydantic.dev/2.5/v/missing",
     "output_type": "error",
     "traceback": [
      "\u001B[0;31m---------------------------------------------------------------------------\u001B[0m",
      "\u001B[0;31mValidationError\u001B[0m                           Traceback (most recent call last)",
      "Cell \u001B[0;32mIn[7], line 25\u001B[0m\n\u001B[1;32m     14\u001B[0m assistant_message_response \u001B[38;5;241m=\u001B[39m taskingai\u001B[38;5;241m.\u001B[39massistant\u001B[38;5;241m.\u001B[39mgenerate_assistant_message(\n\u001B[1;32m     15\u001B[0m     assistant_id\u001B[38;5;241m=\u001B[39massistant\u001B[38;5;241m.\u001B[39massistant_id,\n\u001B[1;32m     16\u001B[0m     chat_id\u001B[38;5;241m=\u001B[39mchat\u001B[38;5;241m.\u001B[39mchat_id,\n\u001B[0;32m   (...)\u001B[0m\n\u001B[1;32m     21\u001B[0m     debug\u001B[38;5;241m=\u001B[39m\u001B[38;5;28;01mTrue\u001B[39;00m,\n\u001B[1;32m     22\u001B[0m )\n\u001B[1;32m     24\u001B[0m \u001B[38;5;28mprint\u001B[39m(\u001B[38;5;124mf\u001B[39m\u001B[38;5;124m\"\u001B[39m\u001B[38;5;124mAssistant:\u001B[39m\u001B[38;5;124m\"\u001B[39m, end\u001B[38;5;241m=\u001B[39m\u001B[38;5;124m\"\u001B[39m\u001B[38;5;124m \u001B[39m\u001B[38;5;124m\"\u001B[39m, flush\u001B[38;5;241m=\u001B[39m\u001B[38;5;28;01mTrue\u001B[39;00m)\n\u001B[0;32m---> 25\u001B[0m \u001B[38;5;28;01mfor\u001B[39;00m item \u001B[38;5;129;01min\u001B[39;00m assistant_message_response:\n\u001B[1;32m     27\u001B[0m     \u001B[38;5;28;01mif\u001B[39;00m \u001B[38;5;28misinstance\u001B[39m(item, MessageChunk):\n\u001B[1;32m     28\u001B[0m         \u001B[38;5;28mprint\u001B[39m(item\u001B[38;5;241m.\u001B[39mdelta, end\u001B[38;5;241m=\u001B[39m\u001B[38;5;124m\"\u001B[39m\u001B[38;5;124m\"\u001B[39m, flush\u001B[38;5;241m=\u001B[39m\u001B[38;5;28;01mTrue\u001B[39;00m)\n",
      "File \u001B[0;32m~/tasking_ai_backend/taskingai-python-client-231106/taskingai/client/stream.py:47\u001B[0m, in \u001B[0;36mStream.__iter__\u001B[0;34m(self)\u001B[0m\n\u001B[1;32m     46\u001B[0m \u001B[38;5;28;01mdef\u001B[39;00m \u001B[38;5;21m__iter__\u001B[39m(\u001B[38;5;28mself\u001B[39m) \u001B[38;5;241m-\u001B[39m\u001B[38;5;241m>\u001B[39m Iterator[Dict]:\n\u001B[0;32m---> 47\u001B[0m     \u001B[38;5;28;01mfor\u001B[39;00m item \u001B[38;5;129;01min\u001B[39;00m \u001B[38;5;28mself\u001B[39m\u001B[38;5;241m.\u001B[39m_iterator:\n\u001B[1;32m     48\u001B[0m         \u001B[38;5;28;01myield\u001B[39;00m item\n",
      "File \u001B[0;32m~/tasking_ai_backend/taskingai-python-client-231106/taskingai/client/stream.py:68\u001B[0m, in \u001B[0;36mStream.__stream__\u001B[0;34m(self)\u001B[0m\n\u001B[1;32m     62\u001B[0m         \u001B[38;5;28;01mif\u001B[39;00m \u001B[38;5;28misinstance\u001B[39m(data, Dict) \u001B[38;5;129;01mand\u001B[39;00m data\u001B[38;5;241m.\u001B[39mget(\u001B[38;5;124m\"\u001B[39m\u001B[38;5;124merror\u001B[39m\u001B[38;5;124m\"\u001B[39m):\n\u001B[1;32m     63\u001B[0m             \u001B[38;5;28;01mraise\u001B[39;00m ApiException(\n\u001B[1;32m     64\u001B[0m                 status\u001B[38;5;241m=\u001B[39m\u001B[38;5;241m400\u001B[39m,  \u001B[38;5;66;03m# or appropriate status code\u001B[39;00m\n\u001B[1;32m     65\u001B[0m                 reason\u001B[38;5;241m=\u001B[39m\u001B[38;5;124m\"\u001B[39m\u001B[38;5;124mAn error occurred during streaming\u001B[39m\u001B[38;5;124m\"\u001B[39m,\n\u001B[1;32m     66\u001B[0m             )\n\u001B[0;32m---> 68\u001B[0m         \u001B[38;5;28;01myield\u001B[39;00m \u001B[43m_cast\u001B[49m\u001B[43m(\u001B[49m\u001B[43mdata\u001B[49m\u001B[43m)\u001B[49m\n\u001B[1;32m     70\u001B[0m \u001B[38;5;66;03m# Ensure the entire stream is consumed\u001B[39;00m\n\u001B[1;32m     71\u001B[0m \u001B[38;5;28;01mfor\u001B[39;00m sse \u001B[38;5;129;01min\u001B[39;00m iterator:\n",
      "File \u001B[0;32m~/tasking_ai_backend/taskingai-python-client-231106/taskingai/client/stream.py:30\u001B[0m, in \u001B[0;36m_cast\u001B[0;34m(item)\u001B[0m\n\u001B[1;32m     28\u001B[0m \u001B[38;5;28;01melif\u001B[39;00m item\u001B[38;5;241m.\u001B[39mget(\u001B[38;5;124m\"\u001B[39m\u001B[38;5;124mobject\u001B[39m\u001B[38;5;124m\"\u001B[39m) \u001B[38;5;241m==\u001B[39m \u001B[38;5;124m\"\u001B[39m\u001B[38;5;124mMessageGenerationLog\u001B[39m\u001B[38;5;124m\"\u001B[39m:\n\u001B[1;32m     29\u001B[0m     \u001B[38;5;28mprint\u001B[39m(item)\n\u001B[0;32m---> 30\u001B[0m     \u001B[38;5;28;01mreturn\u001B[39;00m \u001B[43mMessageGenerationLog\u001B[49m\u001B[43m(\u001B[49m\u001B[38;5;241;43m*\u001B[39;49m\u001B[38;5;241;43m*\u001B[39;49m\u001B[43mitem\u001B[49m\u001B[43m)\u001B[49m\n\u001B[1;32m     31\u001B[0m \u001B[38;5;28;01melse\u001B[39;00m:\n\u001B[1;32m     32\u001B[0m     \u001B[38;5;66;03m# cannot cast, keep the original dict\u001B[39;00m\n\u001B[1;32m     33\u001B[0m     \u001B[38;5;28;01mreturn\u001B[39;00m item\n",
      "File \u001B[0;32m~/opt/anaconda3/envs/taskingai-python-client-231106/lib/python3.10/site-packages/pydantic/main.py:164\u001B[0m, in \u001B[0;36mBaseModel.__init__\u001B[0;34m(__pydantic_self__, **data)\u001B[0m\n\u001B[1;32m    162\u001B[0m \u001B[38;5;66;03m# `__tracebackhide__` tells pytest and some other tools to omit this function from tracebacks\u001B[39;00m\n\u001B[1;32m    163\u001B[0m __tracebackhide__ \u001B[38;5;241m=\u001B[39m \u001B[38;5;28;01mTrue\u001B[39;00m\n\u001B[0;32m--> 164\u001B[0m \u001B[43m__pydantic_self__\u001B[49m\u001B[38;5;241;43m.\u001B[39;49m\u001B[43m__pydantic_validator__\u001B[49m\u001B[38;5;241;43m.\u001B[39;49m\u001B[43mvalidate_python\u001B[49m\u001B[43m(\u001B[49m\u001B[43mdata\u001B[49m\u001B[43m,\u001B[49m\u001B[43m \u001B[49m\u001B[43mself_instance\u001B[49m\u001B[38;5;241;43m=\u001B[39;49m\u001B[43m__pydantic_self__\u001B[49m\u001B[43m)\u001B[49m\n",
      "\u001B[0;31mValidationError\u001B[0m: 1 validation error for MessageGenerationLog\nretrieval\n  Field required [type=missing, input_value={'object': 'MessageGenera... 127}', 'output': None}}, input_type=dict]\n    For further information visit https://errors.pydantic.dev/2.5/v/missing"
     ]
    }
   ],
   "source": [
    "from taskingai.assistant import MessageGenerationLog\n",
    "\n",
    "user_input = input(\"User Input: \")\n",
    "while user_input != \"q\":\n",
    "    # create user message\n",
    "    taskingai.assistant.create_user_message(\n",
    "        assistant_id=assistant.assistant_id,\n",
    "        chat_id=chat.chat_id,\n",
    "        text=user_input,\n",
    "    )\n",
    "    print(f\"User: {user_input}\")\n",
    "    \n",
    "    # generate assistant response\n",
    "    assistant_message_response = taskingai.assistant.generate_assistant_message(\n",
    "        assistant_id=assistant.assistant_id,\n",
    "        chat_id=chat.chat_id,\n",
    "        system_prompt_variables={\n",
    "            \"language\": \"English\"\n",
    "        },\n",
    "        stream=True,\n",
    "        debug=True,\n",
    "    )\n",
    "    \n",
    "    print(f\"Assistant:\", end=\" \", flush=True)\n",
    "    for item in assistant_message_response:\n",
    "        \n",
    "        if isinstance(item, MessageChunk):\n",
    "            print(item.delta, end=\"\", flush=True)\n",
    "            \n",
    "        elif isinstance(item, MessageGenerationLog):\n",
    "            print(f\"\\nlog: {item}\")\n",
    "            \n",
    "        elif isinstance(item, Message):\n",
    "            print(f\"\\nmessage_id: {item.message_id}\")\n",
    "            \n",
    "            \n",
    "    time.sleep(2)\n",
    "    user_input = input(\"User: \")"
   ],
   "metadata": {
    "collapsed": false,
    "ExecuteTime": {
     "end_time": "2023-11-30T12:09:48.761608Z",
     "start_time": "2023-11-30T12:09:44.158846Z"
    }
   },
   "id": "c7d73e0b138e3eba"
  },
  {
   "cell_type": "code",
   "execution_count": 8,
   "outputs": [
    {
     "name": "stdout",
     "output_type": "stream",
     "text": [
      "assistant: Goodbye! If you have any more questions in the future, feel free to ask. Have a great day!\n",
      "----------------------------------------------------------------------------------------------------\n",
      "user: bye\n",
      "----------------------------------------------------------------------------------------------------\n",
      "assistant: The number 127 is the atomic number of Unbiseptium, an element that has not yet been discovered. In the periodic table of elements, each unique element has an atomic number that corresponds to the number of protons in its nucleus. However, as of now, no element with 127 protons has been confirmed or named. Therefore, 127 represents a theoretical element that scientists have not yet observed or identified.\n",
      "----------------------------------------------------------------------------------------------------\n",
      "user: what about 127\n",
      "----------------------------------------------------------------------------------------------------\n",
      "assistant: You're welcome! If you have any more questions, feel free to ask.\n",
      "----------------------------------------------------------------------------------------------------\n",
      "user: thanks\n",
      "----------------------------------------------------------------------------------------------------\n",
      "assistant: The number 12 is often associated with various meanings depending on the context. Here are some interpretations:\n",
      "\n",
      "1. Numerology: In numerology, 12 is considered a powerful number associated with completion, harmony, and a sense of wholeness. It is often seen as a symbol of perfection, balance, and divine guidance.\n",
      "\n",
      "2. Time: There are 12 months in a year, and this is based on the approximate time it takes for the moon to complete its cycle around the Earth. Additionally, there are 12 hours on a clock face, both in the morning and in the evening.\n",
      "\n",
      "3. Mathematics: 12 is divisible by 1, 2, 3, 4, 6, and itself, making it a highly composite number. It also has a prime factorization of 2^2 × 3, which is significant in number theory.\n",
      "\n",
      "4. Religion and Mythology: In many religious beliefs and mythologies, there are groups or sets of 12. For instance, there are 12 disciples of Jesus in Christianity, 12 signs of the zodiac in astrology, and 12 Olympian gods in Greek mythology.\n",
      "\n",
      "5. Measurement: The duodecimal numerical system, based on the number 12, was historically used in some cultures for counting and measurements. This system is still present in modern times in certain contexts, such as inches in a foot (12 inches) and the number of members in a jury (often 12).\n",
      "\n",
      "These are just a few examples of the meaning associated with the number 12. The interpretation can vary depending on the cultural, historical, or personal perspectives.\n",
      "----------------------------------------------------------------------------------------------------\n",
      "user: what is the meaning of 12\n",
      "----------------------------------------------------------------------------------------------------\n",
      "assistant: Hello! How can I assist you today?\n",
      "----------------------------------------------------------------------------------------------------\n",
      "user: hi\n",
      "----------------------------------------------------------------------------------------------------\n"
     ]
    }
   ],
   "source": [
    "# list messages\n",
    "messages = taskingai.assistant.list_messages(\n",
    "    assistant_id=assistant.assistant_id,\n",
    "    chat_id=chat.chat_id,\n",
    ")\n",
    "for message in messages:\n",
    "    print(f\"{message.role}: {message.content.text}\")\n",
    "    print(\"-\"*100)"
   ],
   "metadata": {
    "collapsed": false,
    "ExecuteTime": {
     "end_time": "2023-11-30T11:58:52.694600Z",
     "start_time": "2023-11-30T11:58:51.370902Z"
    }
   },
   "id": "34bae46ba56752bb"
  },
  {
   "cell_type": "code",
   "execution_count": 9,
   "outputs": [],
   "source": [
    "# delete assistant\n",
    "taskingai.assistant.delete_assistant(\n",
    "    assistant_id=assistant.assistant_id,\n",
    ")"
   ],
   "metadata": {
    "collapsed": false,
    "ExecuteTime": {
     "end_time": "2023-11-30T11:59:08.821200Z",
     "start_time": "2023-11-30T11:59:07.561480Z"
    }
   },
   "id": "ed39836bbfdc7a4e"
  },
  {
   "cell_type": "code",
   "execution_count": null,
   "outputs": [],
   "source": [],
   "metadata": {
    "collapsed": false
   },
   "id": "325965f154e14f42"
  }
 ],
 "metadata": {
  "kernelspec": {
   "display_name": "Python 3",
   "language": "python",
   "name": "python3"
  },
  "language_info": {
   "codemirror_mode": {
    "name": "ipython",
    "version": 2
   },
   "file_extension": ".py",
   "mimetype": "text/x-python",
   "name": "python",
   "nbconvert_exporter": "python",
   "pygments_lexer": "ipython2",
   "version": "2.7.6"
  }
 },
 "nbformat": 4,
 "nbformat_minor": 5
}
